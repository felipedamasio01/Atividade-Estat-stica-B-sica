{
 "cells": [
  {
   "cell_type": "markdown",
   "metadata": {
    "id": "VOTu7U3Mvxzq"
   },
   "source": [
    "# **MÓDULO 13**\n",
    "# Projeto - Fundamentos da Descoberta de Dados"
   ]
  },
  {
   "cell_type": "markdown",
   "metadata": {
    "id": "-HYgkdAywLd0"
   },
   "source": [
    "Nesse projeto trabalharemos com a base de dados de produtos de um supermercado do Chile.\n",
    "A ideia é que vocês apliquem os conceitos estatísticos vistos no último módulo, mais os conceitos de visualizações de dados através de gráficos e finalizem publicando no seu github!"
   ]
  },
  {
   "cell_type": "code",
   "execution_count": 24,
   "metadata": {
    "id": "OTdTnbzUwE2X"
   },
   "outputs": [],
   "source": [
    "import pandas as pd\n",
    "import matplotlib.pyplot as plt\n",
    "import plotly.express as px\n",
    "import seaborn as sns\n",
    "import numpy as np"
   ]
  },
  {
   "cell_type": "markdown",
   "metadata": {
    "id": "ky1Dk_KWywEa"
   },
   "source": [
    "Faça a leitura dos dados do arquivo CSV:\n",
    "\n",
    "\n",
    "Altere o código abaixo de acordo com seu diretório."
   ]
  },
  {
   "cell_type": "code",
   "execution_count": 25,
   "metadata": {
    "colab": {
     "base_uri": "https://localhost:8080/",
     "height": 363
    },
    "id": "bRBFyVB5wlny",
    "outputId": "cde5190b-fecf-48f8-e98c-5ec7e469bcfb"
   },
   "outputs": [
    {
     "data": {
      "text/html": [
       "<div>\n",
       "<style scoped>\n",
       "    .dataframe tbody tr th:only-of-type {\n",
       "        vertical-align: middle;\n",
       "    }\n",
       "\n",
       "    .dataframe tbody tr th {\n",
       "        vertical-align: top;\n",
       "    }\n",
       "\n",
       "    .dataframe thead th {\n",
       "        text-align: right;\n",
       "    }\n",
       "</style>\n",
       "<table border=\"1\" class=\"dataframe\">\n",
       "  <thead>\n",
       "    <tr style=\"text-align: right;\">\n",
       "      <th></th>\n",
       "      <th>title</th>\n",
       "      <th>Marca</th>\n",
       "      <th>Preco_Normal</th>\n",
       "      <th>Preco_Desconto</th>\n",
       "      <th>Preco_Anterior</th>\n",
       "      <th>Desconto</th>\n",
       "      <th>Categoria</th>\n",
       "    </tr>\n",
       "  </thead>\n",
       "  <tbody>\n",
       "    <tr>\n",
       "      <th>0</th>\n",
       "      <td>Pack 12 un, Leche extra proteína 1 L</td>\n",
       "      <td>Loncoleche</td>\n",
       "      <td>19788</td>\n",
       "      <td>0</td>\n",
       "      <td>0</td>\n",
       "      <td>0</td>\n",
       "      <td>lacteos</td>\n",
       "    </tr>\n",
       "    <tr>\n",
       "      <th>1</th>\n",
       "      <td>Pack 12 un, Leche chocolate receta original 1 L</td>\n",
       "      <td>Soprole</td>\n",
       "      <td>18228</td>\n",
       "      <td>0</td>\n",
       "      <td>0</td>\n",
       "      <td>0</td>\n",
       "      <td>lacteos</td>\n",
       "    </tr>\n",
       "    <tr>\n",
       "      <th>2</th>\n",
       "      <td>Pack 12 un, Leche semidescremada chocolate 1 L</td>\n",
       "      <td>Soprole</td>\n",
       "      <td>18228</td>\n",
       "      <td>0</td>\n",
       "      <td>0</td>\n",
       "      <td>0</td>\n",
       "      <td>lacteos</td>\n",
       "    </tr>\n",
       "    <tr>\n",
       "      <th>3</th>\n",
       "      <td>Pack 12 un, Leche semidescremada frutilla 1 L</td>\n",
       "      <td>Soprole</td>\n",
       "      <td>18228</td>\n",
       "      <td>0</td>\n",
       "      <td>0</td>\n",
       "      <td>0</td>\n",
       "      <td>lacteos</td>\n",
       "    </tr>\n",
       "    <tr>\n",
       "      <th>4</th>\n",
       "      <td>Pack 12 un, Leche sin lactosa chocolate 1 L</td>\n",
       "      <td>Loncoleche</td>\n",
       "      <td>17988</td>\n",
       "      <td>0</td>\n",
       "      <td>0</td>\n",
       "      <td>0</td>\n",
       "      <td>lacteos</td>\n",
       "    </tr>\n",
       "    <tr>\n",
       "      <th>5</th>\n",
       "      <td>Pack 12 un, Leche sin lactosa frutilla 1 L</td>\n",
       "      <td>Loncoleche</td>\n",
       "      <td>17988</td>\n",
       "      <td>0</td>\n",
       "      <td>0</td>\n",
       "      <td>0</td>\n",
       "      <td>lacteos</td>\n",
       "    </tr>\n",
       "    <tr>\n",
       "      <th>6</th>\n",
       "      <td>Pack 12 un, Leche saborizada light chocolate 1 L</td>\n",
       "      <td>Loncoleche</td>\n",
       "      <td>17988</td>\n",
       "      <td>0</td>\n",
       "      <td>0</td>\n",
       "      <td>0</td>\n",
       "      <td>lacteos</td>\n",
       "    </tr>\n",
       "    <tr>\n",
       "      <th>7</th>\n",
       "      <td>Pack 12 un, Leche saborizada frutilla 1 L</td>\n",
       "      <td>Colun</td>\n",
       "      <td>17388</td>\n",
       "      <td>0</td>\n",
       "      <td>0</td>\n",
       "      <td>0</td>\n",
       "      <td>lacteos</td>\n",
       "    </tr>\n",
       "    <tr>\n",
       "      <th>8</th>\n",
       "      <td>Pack 12 un, Leche saborizada vainilla 1 L</td>\n",
       "      <td>Colun</td>\n",
       "      <td>17388</td>\n",
       "      <td>0</td>\n",
       "      <td>0</td>\n",
       "      <td>0</td>\n",
       "      <td>lacteos</td>\n",
       "    </tr>\n",
       "    <tr>\n",
       "      <th>9</th>\n",
       "      <td>Pack 12 un, Leche saborizada manjar 1 L</td>\n",
       "      <td>Colun</td>\n",
       "      <td>17388</td>\n",
       "      <td>0</td>\n",
       "      <td>0</td>\n",
       "      <td>0</td>\n",
       "      <td>lacteos</td>\n",
       "    </tr>\n",
       "  </tbody>\n",
       "</table>\n",
       "</div>"
      ],
      "text/plain": [
       "                                              title       Marca  Preco_Normal  \\\n",
       "0              Pack 12 un, Leche extra proteína 1 L  Loncoleche         19788   \n",
       "1   Pack 12 un, Leche chocolate receta original 1 L     Soprole         18228   \n",
       "2    Pack 12 un, Leche semidescremada chocolate 1 L     Soprole         18228   \n",
       "3     Pack 12 un, Leche semidescremada frutilla 1 L     Soprole         18228   \n",
       "4       Pack 12 un, Leche sin lactosa chocolate 1 L  Loncoleche         17988   \n",
       "5        Pack 12 un, Leche sin lactosa frutilla 1 L  Loncoleche         17988   \n",
       "6  Pack 12 un, Leche saborizada light chocolate 1 L  Loncoleche         17988   \n",
       "7         Pack 12 un, Leche saborizada frutilla 1 L       Colun         17388   \n",
       "8         Pack 12 un, Leche saborizada vainilla 1 L       Colun         17388   \n",
       "9           Pack 12 un, Leche saborizada manjar 1 L       Colun         17388   \n",
       "\n",
       "   Preco_Desconto  Preco_Anterior  Desconto Categoria  \n",
       "0               0               0         0   lacteos  \n",
       "1               0               0         0   lacteos  \n",
       "2               0               0         0   lacteos  \n",
       "3               0               0         0   lacteos  \n",
       "4               0               0         0   lacteos  \n",
       "5               0               0         0   lacteos  \n",
       "6               0               0         0   lacteos  \n",
       "7               0               0         0   lacteos  \n",
       "8               0               0         0   lacteos  \n",
       "9               0               0         0   lacteos  "
      ]
     },
     "execution_count": 25,
     "metadata": {},
     "output_type": "execute_result"
    }
   ],
   "source": [
    "df = pd.read_csv(\"MODULO7_PROJETOFINAL_BASE_SUPERMERCADO.csv\", delimiter=',')\n",
    "\n",
    "df.head(10)"
   ]
  },
  {
   "cell_type": "markdown",
   "metadata": {
    "id": "YJgKJ7Nxwtw2"
   },
   "source": [
    "Os campos do nosso dataframe são:\n",
    "\n",
    "**Title:** Nome do produto.\n",
    "\n",
    "\n",
    "**Marca:** A marca do produto.\n",
    "\n",
    "\n",
    "**Preco_Normal:** O preço em que o produto costuma ser vendido quando não há desconto.\n",
    "\n",
    "\n",
    "**Preco_Desconto:** O preço vendido após o desconto ser aplicado.\n",
    "\n",
    "\n",
    "**Preco_Anterior:** Preço em que era comercializado o produto antes do desconto aplicado.\n",
    "\n",
    "\n",
    "**Desconto:** Total de desconto aplicado.\n",
    "\n",
    "\n",
    "\n",
    "\n",
    "\n",
    "\n",
    "As colunas que aparecem com valores 0 são para os produtos onde não tivemos descontos aplicados.\n",
    "\n",
    "\n",
    "As categorias estão em espanhol!"
   ]
  },
  {
   "cell_type": "markdown",
   "metadata": {
    "id": "4u6WBeyyy6ri"
   },
   "source": [
    "# 1 - Traga a média e a mediana dos preços - coluna Preco_Normal - por categoria de produto.\n",
    "# Identifique as categorias que parecem ter um valor de média abaixo ou acima da mediana."
   ]
  },
  {
   "cell_type": "code",
   "execution_count": 26,
   "metadata": {
    "id": "E7B7FolOzVcJ"
   },
   "outputs": [
    {
     "data": {
      "text/plain": [
       "2070.9972899728996"
      ]
     },
     "execution_count": 26,
     "metadata": {},
     "output_type": "execute_result"
    }
   ],
   "source": [
    "df[\"Preco_Normal\"].mean()"
   ]
  },
  {
   "cell_type": "code",
   "execution_count": 27,
   "metadata": {},
   "outputs": [
    {
     "name": "stdout",
     "output_type": "stream",
     "text": [
      "Média de Preço Normal: 2070.9972899728996\n"
     ]
    }
   ],
   "source": [
    "soma_preco_normal = df[\"Preco_Normal\"].sum()\n",
    "quantidade_de_registros = len(df[\"Preco_Normal\"])\n",
    "media_preco_normal = soma_preco_normal / quantidade_de_registros\n",
    "\n",
    "print(\"Média de Preço Normal:\", media_preco_normal)"
   ]
  },
  {
   "cell_type": "code",
   "execution_count": 28,
   "metadata": {},
   "outputs": [
    {
     "data": {
      "text/html": [
       "<div>\n",
       "<style scoped>\n",
       "    .dataframe tbody tr th:only-of-type {\n",
       "        vertical-align: middle;\n",
       "    }\n",
       "\n",
       "    .dataframe tbody tr th {\n",
       "        vertical-align: top;\n",
       "    }\n",
       "\n",
       "    .dataframe thead th {\n",
       "        text-align: right;\n",
       "    }\n",
       "</style>\n",
       "<table border=\"1\" class=\"dataframe\">\n",
       "  <thead>\n",
       "    <tr style=\"text-align: right;\">\n",
       "      <th></th>\n",
       "      <th>Categoria</th>\n",
       "      <th>Preco_Normal</th>\n",
       "    </tr>\n",
       "  </thead>\n",
       "  <tbody>\n",
       "    <tr>\n",
       "      <th>1</th>\n",
       "      <td>comidas-preparadas</td>\n",
       "      <td>3095.043478</td>\n",
       "    </tr>\n",
       "    <tr>\n",
       "      <th>5</th>\n",
       "      <td>lacteos</td>\n",
       "      <td>2385.219239</td>\n",
       "    </tr>\n",
       "    <tr>\n",
       "      <th>2</th>\n",
       "      <td>congelados</td>\n",
       "      <td>2108.042553</td>\n",
       "    </tr>\n",
       "    <tr>\n",
       "      <th>0</th>\n",
       "      <td>belleza-y-cuidado-personal</td>\n",
       "      <td>1783.556485</td>\n",
       "    </tr>\n",
       "    <tr>\n",
       "      <th>3</th>\n",
       "      <td>frutas</td>\n",
       "      <td>1724.473684</td>\n",
       "    </tr>\n",
       "    <tr>\n",
       "      <th>6</th>\n",
       "      <td>verduras</td>\n",
       "      <td>1343.296875</td>\n",
       "    </tr>\n",
       "    <tr>\n",
       "      <th>4</th>\n",
       "      <td>instantaneos-y-sopas</td>\n",
       "      <td>765.491228</td>\n",
       "    </tr>\n",
       "  </tbody>\n",
       "</table>\n",
       "</div>"
      ],
      "text/plain": [
       "                    Categoria  Preco_Normal\n",
       "1          comidas-preparadas   3095.043478\n",
       "5                     lacteos   2385.219239\n",
       "2                  congelados   2108.042553\n",
       "0  belleza-y-cuidado-personal   1783.556485\n",
       "3                      frutas   1724.473684\n",
       "6                    verduras   1343.296875\n",
       "4        instantaneos-y-sopas    765.491228"
      ]
     },
     "execution_count": 28,
     "metadata": {},
     "output_type": "execute_result"
    }
   ],
   "source": [
    "df.groupby('Categoria')['Preco_Normal'].mean().reset_index().sort_values(by='Preco_Normal', ascending=False)"
   ]
  },
  {
   "cell_type": "code",
   "execution_count": 29,
   "metadata": {
    "id": "Rwf4V3hnzZwh"
   },
   "outputs": [
    {
     "data": {
      "text/plain": [
       "1269.0"
      ]
     },
     "execution_count": 29,
     "metadata": {},
     "output_type": "execute_result"
    }
   ],
   "source": [
    "df[\"Preco_Normal\"].median()"
   ]
  },
  {
   "cell_type": "code",
   "execution_count": 30,
   "metadata": {},
   "outputs": [
    {
     "data": {
      "text/html": [
       "<div>\n",
       "<style scoped>\n",
       "    .dataframe tbody tr th:only-of-type {\n",
       "        vertical-align: middle;\n",
       "    }\n",
       "\n",
       "    .dataframe tbody tr th {\n",
       "        vertical-align: top;\n",
       "    }\n",
       "\n",
       "    .dataframe thead th {\n",
       "        text-align: right;\n",
       "    }\n",
       "</style>\n",
       "<table border=\"1\" class=\"dataframe\">\n",
       "  <thead>\n",
       "    <tr style=\"text-align: right;\">\n",
       "      <th></th>\n",
       "      <th>Categoria</th>\n",
       "      <th>Preco_Normal</th>\n",
       "    </tr>\n",
       "  </thead>\n",
       "  <tbody>\n",
       "    <tr>\n",
       "      <th>1</th>\n",
       "      <td>comidas-preparadas</td>\n",
       "      <td>3290.0</td>\n",
       "    </tr>\n",
       "    <tr>\n",
       "      <th>0</th>\n",
       "      <td>belleza-y-cuidado-personal</td>\n",
       "      <td>1569.0</td>\n",
       "    </tr>\n",
       "    <tr>\n",
       "      <th>2</th>\n",
       "      <td>congelados</td>\n",
       "      <td>1519.0</td>\n",
       "    </tr>\n",
       "    <tr>\n",
       "      <th>3</th>\n",
       "      <td>frutas</td>\n",
       "      <td>1195.0</td>\n",
       "    </tr>\n",
       "    <tr>\n",
       "      <th>6</th>\n",
       "      <td>verduras</td>\n",
       "      <td>1180.0</td>\n",
       "    </tr>\n",
       "    <tr>\n",
       "      <th>5</th>\n",
       "      <td>lacteos</td>\n",
       "      <td>989.0</td>\n",
       "    </tr>\n",
       "    <tr>\n",
       "      <th>4</th>\n",
       "      <td>instantaneos-y-sopas</td>\n",
       "      <td>439.0</td>\n",
       "    </tr>\n",
       "  </tbody>\n",
       "</table>\n",
       "</div>"
      ],
      "text/plain": [
       "                    Categoria  Preco_Normal\n",
       "1          comidas-preparadas        3290.0\n",
       "0  belleza-y-cuidado-personal        1569.0\n",
       "2                  congelados        1519.0\n",
       "3                      frutas        1195.0\n",
       "6                    verduras        1180.0\n",
       "5                     lacteos         989.0\n",
       "4        instantaneos-y-sopas         439.0"
      ]
     },
     "execution_count": 30,
     "metadata": {},
     "output_type": "execute_result"
    }
   ],
   "source": [
    "df.groupby('Categoria')['Preco_Normal'].median().reset_index().sort_values(by='Preco_Normal', ascending=False)"
   ]
  },
  {
   "cell_type": "markdown",
   "metadata": {
    "id": "nKBFOh-mzyWX"
   },
   "source": [
    "Digite aqui as categorias: \n",
    "#Acima da Mediana: comidas-preparadas, lácteos, congelados, beleza e cuidado pessoal, frutas; Abaixo da Mediana: verduras, instantâneos e sopas."
   ]
  },
  {
   "cell_type": "markdown",
   "metadata": {
    "id": "jdHZurzDzca0"
   },
   "source": [
    "# 2 - Traga o desvio padrão por categoria de produto.\n",
    "# Qual o comportamento da média e mediana nas categorias com maior desvio?"
   ]
  },
  {
   "cell_type": "code",
   "execution_count": 31,
   "metadata": {
    "id": "xEXT1gtoz135"
   },
   "outputs": [
    {
     "data": {
      "text/html": [
       "<div>\n",
       "<style scoped>\n",
       "    .dataframe tbody tr th:only-of-type {\n",
       "        vertical-align: middle;\n",
       "    }\n",
       "\n",
       "    .dataframe tbody tr th {\n",
       "        vertical-align: top;\n",
       "    }\n",
       "\n",
       "    .dataframe thead th {\n",
       "        text-align: right;\n",
       "    }\n",
       "</style>\n",
       "<table border=\"1\" class=\"dataframe\">\n",
       "  <thead>\n",
       "    <tr style=\"text-align: right;\">\n",
       "      <th></th>\n",
       "      <th>Categoria</th>\n",
       "      <th>Preco_Normal</th>\n",
       "    </tr>\n",
       "  </thead>\n",
       "  <tbody>\n",
       "    <tr>\n",
       "      <th>0</th>\n",
       "      <td>belleza-y-cuidado-personal</td>\n",
       "      <td>2210.041719</td>\n",
       "    </tr>\n",
       "    <tr>\n",
       "      <th>1</th>\n",
       "      <td>comidas-preparadas</td>\n",
       "      <td>2019.911428</td>\n",
       "    </tr>\n",
       "    <tr>\n",
       "      <th>2</th>\n",
       "      <td>congelados</td>\n",
       "      <td>2111.539896</td>\n",
       "    </tr>\n",
       "    <tr>\n",
       "      <th>3</th>\n",
       "      <td>frutas</td>\n",
       "      <td>1639.151114</td>\n",
       "    </tr>\n",
       "    <tr>\n",
       "      <th>4</th>\n",
       "      <td>instantaneos-y-sopas</td>\n",
       "      <td>1170.232869</td>\n",
       "    </tr>\n",
       "    <tr>\n",
       "      <th>5</th>\n",
       "      <td>lacteos</td>\n",
       "      <td>3925.816164</td>\n",
       "    </tr>\n",
       "    <tr>\n",
       "      <th>6</th>\n",
       "      <td>verduras</td>\n",
       "      <td>1012.699625</td>\n",
       "    </tr>\n",
       "  </tbody>\n",
       "</table>\n",
       "</div>"
      ],
      "text/plain": [
       "                    Categoria  Preco_Normal\n",
       "0  belleza-y-cuidado-personal   2210.041719\n",
       "1          comidas-preparadas   2019.911428\n",
       "2                  congelados   2111.539896\n",
       "3                      frutas   1639.151114\n",
       "4        instantaneos-y-sopas   1170.232869\n",
       "5                     lacteos   3925.816164\n",
       "6                    verduras   1012.699625"
      ]
     },
     "execution_count": 31,
     "metadata": {},
     "output_type": "execute_result"
    }
   ],
   "source": [
    "desvio_padrao_por_categoria = df.groupby('Categoria')['Preco_Normal'].std().reset_index()\n",
    "desvio_padrao_por_categoria"
   ]
  },
  {
   "cell_type": "code",
   "execution_count": 32,
   "metadata": {},
   "outputs": [
    {
     "data": {
      "text/html": [
       "<div>\n",
       "<style scoped>\n",
       "    .dataframe tbody tr th:only-of-type {\n",
       "        vertical-align: middle;\n",
       "    }\n",
       "\n",
       "    .dataframe tbody tr th {\n",
       "        vertical-align: top;\n",
       "    }\n",
       "\n",
       "    .dataframe thead th {\n",
       "        text-align: right;\n",
       "    }\n",
       "</style>\n",
       "<table border=\"1\" class=\"dataframe\">\n",
       "  <thead>\n",
       "    <tr style=\"text-align: right;\">\n",
       "      <th></th>\n",
       "      <th>Preco_Normal</th>\n",
       "      <th>Preco_Desconto</th>\n",
       "      <th>Preco_Anterior</th>\n",
       "      <th>Desconto</th>\n",
       "    </tr>\n",
       "  </thead>\n",
       "  <tbody>\n",
       "    <tr>\n",
       "      <th>count</th>\n",
       "      <td>1107.000000</td>\n",
       "      <td>1107.000000</td>\n",
       "      <td>1107.000000</td>\n",
       "      <td>1107.000000</td>\n",
       "    </tr>\n",
       "    <tr>\n",
       "      <th>mean</th>\n",
       "      <td>2070.997290</td>\n",
       "      <td>522.269196</td>\n",
       "      <td>372.257453</td>\n",
       "      <td>68.109304</td>\n",
       "    </tr>\n",
       "    <tr>\n",
       "      <th>std</th>\n",
       "      <td>2961.257627</td>\n",
       "      <td>1339.559852</td>\n",
       "      <td>1239.475017</td>\n",
       "      <td>241.158310</td>\n",
       "    </tr>\n",
       "    <tr>\n",
       "      <th>min</th>\n",
       "      <td>0.000000</td>\n",
       "      <td>0.000000</td>\n",
       "      <td>0.000000</td>\n",
       "      <td>0.000000</td>\n",
       "    </tr>\n",
       "    <tr>\n",
       "      <th>25%</th>\n",
       "      <td>0.000000</td>\n",
       "      <td>0.000000</td>\n",
       "      <td>0.000000</td>\n",
       "      <td>0.000000</td>\n",
       "    </tr>\n",
       "    <tr>\n",
       "      <th>50%</th>\n",
       "      <td>1269.000000</td>\n",
       "      <td>0.000000</td>\n",
       "      <td>0.000000</td>\n",
       "      <td>0.000000</td>\n",
       "    </tr>\n",
       "    <tr>\n",
       "      <th>75%</th>\n",
       "      <td>2849.000000</td>\n",
       "      <td>0.000000</td>\n",
       "      <td>0.000000</td>\n",
       "      <td>0.000000</td>\n",
       "    </tr>\n",
       "    <tr>\n",
       "      <th>max</th>\n",
       "      <td>19788.000000</td>\n",
       "      <td>14550.000000</td>\n",
       "      <td>18899.000000</td>\n",
       "      <td>4349.000000</td>\n",
       "    </tr>\n",
       "  </tbody>\n",
       "</table>\n",
       "</div>"
      ],
      "text/plain": [
       "       Preco_Normal  Preco_Desconto  Preco_Anterior     Desconto\n",
       "count   1107.000000     1107.000000     1107.000000  1107.000000\n",
       "mean    2070.997290      522.269196      372.257453    68.109304\n",
       "std     2961.257627     1339.559852     1239.475017   241.158310\n",
       "min        0.000000        0.000000        0.000000     0.000000\n",
       "25%        0.000000        0.000000        0.000000     0.000000\n",
       "50%     1269.000000        0.000000        0.000000     0.000000\n",
       "75%     2849.000000        0.000000        0.000000     0.000000\n",
       "max    19788.000000    14550.000000    18899.000000  4349.000000"
      ]
     },
     "execution_count": 32,
     "metadata": {},
     "output_type": "execute_result"
    }
   ],
   "source": [
    "df.describe()"
   ]
  },
  {
   "cell_type": "markdown",
   "metadata": {
    "id": "HzsLO4nOz3yJ"
   },
   "source": [
    "Digite nesse campo o comportamento que você identificou.\n",
    "\n",
    "Nas categorias com maior desvio padrão, existe um comportamento em que a média tende a ser mais elevada em relação à mediana, o que sugere a presença de valores altos que distorcem a média (outliers), deixando-a acima do valor da mediana. Esse comportamento de dados com outliers, onde alguns produtos possuem preços muito acima dos demais na mesma categoria, aumentando o desvio padrão. Com isso, as categorias com maior desvio, a média está consistentemente mais alta que a mediana, mostrando a influência de \"valores extremos\"."
   ]
  },
  {
   "cell_type": "markdown",
   "metadata": {
    "id": "4aW51rCHBr2w"
   },
   "source": [
    "# 3 - Plot um boxplot da distribuição do Preco_Normal para a categoria que você identificou que tem o maior desvio padrão. Como é a distribuição desses dados segundo o boxplot? Você identifica muitos outliers?"
   ]
  },
  {
   "cell_type": "markdown",
   "metadata": {
    "id": "kwPKkUZnEUSb"
   },
   "source": [
    "Dica: Para trazer apenas os dados da categoria que você deseja você pode usar o df.loc[df['Categoria'] == 'CATEGORIA ESCOLHIDA'"
   ]
  },
  {
   "cell_type": "code",
   "execution_count": 33,
   "metadata": {
    "id": "_02thblTCKEF"
   },
   "outputs": [
    {
     "data": {
      "image/png": "[encoded data removed]",
      "text/plain": [
       "<Figure size 800x600 with 1 Axes>"
      ]
     },
     "metadata": {},
     "output_type": "display_data"
    }
   ],
   "source": [
    "categoria_maior_desvio = df.loc[df['Categoria'] == 'lacteos']\n",
    "\n",
    "plt.figure(figsize=(8, 6))\n",
    "\n",
    "sns.boxplot(data=categoria_maior_desvio, y='Preco_Normal')\n",
    "\n",
    "plt.title('Distribuição de Preco_Normal para a Categoria Lácteos')\n",
    "plt.ylabel('Preco_Normal')\n",
    "\n",
    "plt.show()"
   ]
  },
  {
   "cell_type": "markdown",
   "metadata": {},
   "source": [
    "A distribuição dos dados para a categoria \"lácteos\", de acordo com o boxplot acima, mostra uma grande variação nos preços, com uma \"assimetria\" onde a média é influenciada por valores elevados. Isso faz com que tenha presença de vários outliers acima do limite superior, indicando que exista produtos com preços maiores que o restante de forma significativa. Esses outliers sugerem que, apesar da concentração da maioria dos preços em uma faixa específica, os valores extremos elevam a média da categoria, resultando em um desvio padrão alto."
   ]
  },
  {
   "cell_type": "markdown",
   "metadata": {
    "id": "w5xgQBC_0Hg-"
   },
   "source": [
    "# 4 - Plote um gráfico de barras onde temos a média de descontos por categoria."
   ]
  },
  {
   "cell_type": "code",
   "execution_count": 34,
   "metadata": {
    "id": "DBj5zAdI0QfI"
   },
   "outputs": [
    {
     "data": {
      "text/plain": [
       "68.10930442637759"
      ]
     },
     "execution_count": 34,
     "metadata": {},
     "output_type": "execute_result"
    }
   ],
   "source": [
    "# Seu código aqui\n",
    "df[\"Desconto\"].mean()"
   ]
  },
  {
   "cell_type": "code",
   "execution_count": 35,
   "metadata": {},
   "outputs": [
    {
     "data": {
      "image/png": "[encoded data removed]",
      "text/plain": [
       "<Figure size 1000x600 with 1 Axes>"
      ]
     },
     "metadata": {},
     "output_type": "display_data"
    }
   ],
   "source": [
    "media_desconto_por_categoria = df.groupby('Categoria')['Desconto'].mean()\n",
    "\n",
    "plt.figure(figsize=(10, 6))\n",
    "bars = plt.bar(media_desconto_por_categoria.index, media_desconto_por_categoria, color='lightblue')\n",
    "\n",
    "for bar in bars:\n",
    "    plt.text(bar.get_x() + bar.get_width() / 2, bar.get_height(), round(bar.get_height(), 2),\n",
    "             ha='center', va='bottom', fontsize=10)\n",
    "\n",
    "plt.title('Média de Desconto por Categoria', fontsize=16)\n",
    "plt.xlabel('Categoria', fontsize=12)\n",
    "plt.ylabel('Média de Desconto', fontsize=12)\n",
    "plt.xticks(rotation=45)\n",
    "plt.grid(True, linestyle='--', alpha=0.7)\n",
    "plt.show()"
   ]
  },
  {
   "cell_type": "markdown",
   "metadata": {
    "id": "vqlx0w7E07uC"
   },
   "source": [
    "# 5 - Plote um gráfico de mapa interativo agrupando os dados por categoria, marca e trazendo a média de desconto."
   ]
  },
  {
   "cell_type": "code",
   "execution_count": 36,
   "metadata": {},
   "outputs": [
    {
     "data": {
      "application/vnd.plotly.v1+json": {
       "config": {
        "plotlyServerURL": "https://plot.ly"
       },
       "data": [
        {
         "branchvalues": "total",
         "customdata": [
          [
           "belleza-y-cuidado-personal"
          ],
          [
           "belleza-y-cuidado-personal"
          ],
          [
           "belleza-y-cuidado-personal"
          ],
          [
           "belleza-y-cuidado-personal"
          ],
          [
           "lacteos"
          ],
          [
           "lacteos"
          ],
          [
           "lacteos"
          ],
          [
           "lacteos"
          ],
          [
           "belleza-y-cuidado-personal"
          ],
          [
           "belleza-y-cuidado-personal"
          ],
          [
           "belleza-y-cuidado-personal"
          ],
          [
           "belleza-y-cuidado-personal"
          ],
          [
           "belleza-y-cuidado-personal"
          ],
          [
           "belleza-y-cuidado-personal"
          ],
          [
           "belleza-y-cuidado-personal"
          ],
          [
           "lacteos"
          ],
          [
           "comidas-preparadas"
          ],
          [
           "comidas-preparadas"
          ],
          [
           "comidas-preparadas"
          ],
          [
           "congelados"
          ],
          [
           "congelados"
          ],
          [
           "congelados"
          ],
          [
           "congelados"
          ],
          [
           "instantaneos-y-sopas"
          ],
          [
           "instantaneos-y-sopas"
          ],
          [
           "congelados"
          ],
          [
           "congelados"
          ],
          [
           "congelados"
          ],
          [
           "instantaneos-y-sopas"
          ],
          [
           "congelados"
          ],
          [
           "instantaneos-y-sopas"
          ],
          [
           "comidas-preparadas"
          ],
          [
           "instantaneos-y-sopas"
          ],
          [
           "instantaneos-y-sopas"
          ],
          [
           "congelados"
          ],
          [
           "belleza-y-cuidado-personal"
          ],
          [
           "congelados"
          ],
          [
           "belleza-y-cuidado-personal"
          ],
          [
           "belleza-y-cuidado-personal"
          ],
          [
           "belleza-y-cuidado-personal"
          ],
          [
           "belleza-y-cuidado-personal"
          ],
          [
           "belleza-y-cuidado-personal"
          ],
          [
           "lacteos"
          ],
          [
           "lacteos"
          ],
          [
           "belleza-y-cuidado-personal"
          ],
          [
           "belleza-y-cuidado-personal"
          ],
          [
           "lacteos"
          ],
          [
           "belleza-y-cuidado-personal"
          ],
          [
           "lacteos"
          ],
          [
           "lacteos"
          ],
          [
           "lacteos"
          ],
          [
           "lacteos"
          ],
          [
           "belleza-y-cuidado-personal"
          ],
          [
           "lacteos"
          ],
          [
           "lacteos"
          ],
          [
           "belleza-y-cuidado-personal"
          ],
          [
           "belleza-y-cuidado-personal"
          ],
          [
           "lacteos"
          ],
          [
           "belleza-y-cuidado-personal"
          ],
          [
           "lacteos"
          ],
          [
           "belleza-y-cuidado-personal"
          ],
          [
           "lacteos"
          ],
          [
           "congelados"
          ],
          [
           "belleza-y-cuidado-personal"
          ],
          [
           "belleza-y-cuidado-personal"
          ],
          [
           "lacteos"
          ],
          [
           "instantaneos-y-sopas"
          ],
          [
           "lacteos"
          ],
          [
           "lacteos"
          ],
          [
           "frutas"
          ],
          [
           "congelados"
          ],
          [
           "congelados"
          ],
          [
           "verduras"
          ],
          [
           "lacteos"
          ],
          [
           "instantaneos-y-sopas"
          ],
          [
           "lacteos"
          ],
          [
           "lacteos"
          ],
          [
           "lacteos"
          ],
          [
           "lacteos"
          ],
          [
           "lacteos"
          ],
          [
           "lacteos"
          ],
          [
           "lacteos"
          ],
          [
           "lacteos"
          ],
          [
           "lacteos"
          ],
          [
           "lacteos"
          ],
          [
           "lacteos"
          ],
          [
           "congelados"
          ],
          [
           "verduras"
          ],
          [
           "belleza-y-cuidado-personal"
          ],
          [
           "belleza-y-cuidado-personal"
          ],
          [
           "belleza-y-cuidado-personal"
          ],
          [
           "comidas-preparadas"
          ],
          [
           "belleza-y-cuidado-personal"
          ],
          [
           "congelados"
          ],
          [
           "congelados"
          ],
          [
           "congelados"
          ],
          [
           "belleza-y-cuidado-personal"
          ],
          [
           "belleza-y-cuidado-personal"
          ],
          [
           "congelados"
          ],
          [
           "congelados"
          ],
          [
           "belleza-y-cuidado-personal"
          ],
          [
           "belleza-y-cuidado-personal"
          ],
          [
           "lacteos"
          ],
          [
           "belleza-y-cuidado-personal"
          ],
          [
           "comidas-preparadas"
          ],
          [
           "belleza-y-cuidado-personal"
          ],
          [
           "comidas-preparadas"
          ],
          [
           "belleza-y-cuidado-personal"
          ],
          [
           "congelados"
          ],
          [
           "lacteos"
          ],
          [
           "congelados"
          ],
          [
           "congelados"
          ],
          [
           "lacteos"
          ],
          [
           "belleza-y-cuidado-personal"
          ],
          [
           "lacteos"
          ],
          [
           "lacteos"
          ],
          [
           "belleza-y-cuidado-personal"
          ],
          [
           "verduras"
          ],
          [
           "belleza-y-cuidado-personal"
          ],
          [
           "belleza-y-cuidado-personal"
          ],
          [
           "belleza-y-cuidado-personal"
          ],
          [
           "belleza-y-cuidado-personal"
          ],
          [
           "lacteos"
          ],
          [
           "belleza-y-cuidado-personal"
          ],
          [
           "lacteos"
          ],
          [
           "belleza-y-cuidado-personal"
          ],
          [
           "belleza-y-cuidado-personal"
          ],
          [
           "belleza-y-cuidado-personal"
          ],
          [
           "lacteos"
          ],
          [
           "lacteos"
          ],
          [
           "lacteos"
          ],
          [
           "belleza-y-cuidado-personal"
          ],
          [
           "lacteos"
          ],
          [
           "belleza-y-cuidado-personal"
          ],
          [
           "lacteos"
          ],
          [
           "belleza-y-cuidado-personal"
          ],
          [
           "belleza-y-cuidado-personal"
          ],
          [
           "congelados"
          ],
          [
           "congelados"
          ],
          [
           "congelados"
          ],
          [
           "congelados"
          ],
          [
           "congelados"
          ],
          [
           "congelados"
          ],
          [
           "verduras"
          ],
          [
           "congelados"
          ],
          [
           "congelados"
          ],
          [
           "frutas"
          ],
          [
           "frutas"
          ],
          [
           "congelados"
          ],
          [
           "belleza-y-cuidado-personal"
          ],
          [
           "instantaneos-y-sopas"
          ],
          [
           "congelados"
          ],
          [
           "instantaneos-y-sopas"
          ],
          [
           "comidas-preparadas"
          ],
          [
           "lacteos"
          ],
          [
           "lacteos"
          ],
          [
           "lacteos"
          ],
          [
           "belleza-y-cuidado-personal"
          ],
          [
           "belleza-y-cuidado-personal"
          ],
          [
           "lacteos"
          ],
          [
           "lacteos"
          ],
          [
           "congelados"
          ],
          [
           "belleza-y-cuidado-personal"
          ],
          [
           "comidas-preparadas"
          ],
          [
           "belleza-y-cuidado-personal"
          ],
          [
           "belleza-y-cuidado-personal"
          ],
          [
           "belleza-y-cuidado-personal"
          ],
          [
           "lacteos"
          ],
          [
           "lacteos"
          ],
          [
           "verduras"
          ],
          [
           "instantaneos-y-sopas"
          ],
          [
           "congelados"
          ],
          [
           "belleza-y-cuidado-personal"
          ],
          [
           "belleza-y-cuidado-personal"
          ],
          [
           "lacteos"
          ],
          [
           "belleza-y-cuidado-personal"
          ],
          [
           "belleza-y-cuidado-personal"
          ],
          [
           "belleza-y-cuidado-personal"
          ],
          [
           "lacteos"
          ],
          [
           "belleza-y-cuidado-personal"
          ],
          [
           "belleza-y-cuidado-personal"
          ],
          [
           "lacteos"
          ],
          [
           "congelados"
          ],
          [
           "comidas-preparadas"
          ],
          [
           "congelados"
          ],
          [
           "belleza-y-cuidado-personal"
          ],
          [
           "lacteos"
          ],
          [
           "lacteos"
          ],
          [
           "belleza-y-cuidado-personal"
          ],
          [
           "instantaneos-y-sopas"
          ],
          [
           "congelados"
          ],
          [
           "lacteos"
          ],
          [
           "lacteos"
          ],
          [
           "lacteos"
          ],
          [
           "belleza-y-cuidado-personal"
          ],
          [
           "lacteos"
          ],
          [
           "lacteos"
          ],
          [
           "lacteos"
          ],
          [
           "comidas-preparadas"
          ],
          [
           "belleza-y-cuidado-personal"
          ],
          [
           "belleza-y-cuidado-personal"
          ],
          [
           "lacteos"
          ],
          [
           "(?)"
          ],
          [
           "lacteos"
          ],
          [
           "lacteos"
          ],
          [
           "belleza-y-cuidado-personal"
          ],
          [
           "verduras"
          ],
          [
           "belleza-y-cuidado-personal"
          ],
          [
           "belleza-y-cuidado-personal"
          ],
          [
           "belleza-y-cuidado-personal"
          ],
          [
           "belleza-y-cuidado-personal"
          ],
          [
           "belleza-y-cuidado-personal"
          ],
          [
           "belleza-y-cuidado-personal"
          ],
          [
           "belleza-y-cuidado-personal"
          ],
          [
           "congelados"
          ],
          [
           "belleza-y-cuidado-personal"
          ],
          [
           "(?)"
          ],
          [
           "frutas"
          ],
          [
           "congelados"
          ],
          [
           "belleza-y-cuidado-personal"
          ],
          [
           "belleza-y-cuidado-personal"
          ],
          [
           "belleza-y-cuidado-personal"
          ],
          [
           "instantaneos-y-sopas"
          ],
          [
           "congelados"
          ],
          [
           "belleza-y-cuidado-personal"
          ],
          [
           "belleza-y-cuidado-personal"
          ],
          [
           "belleza-y-cuidado-personal"
          ],
          [
           "instantaneos-y-sopas"
          ],
          [
           "lacteos"
          ],
          [
           "belleza-y-cuidado-personal"
          ],
          [
           "verduras"
          ],
          [
           "congelados"
          ],
          [
           "belleza-y-cuidado-personal"
          ],
          [
           "lacteos"
          ],
          [
           "(?)"
          ],
          [
           "belleza-y-cuidado-personal"
          ],
          [
           "belleza-y-cuidado-personal"
          ],
          [
           "belleza-y-cuidado-personal"
          ],
          [
           "lacteos"
          ],
          [
           "lacteos"
          ],
          [
           "belleza-y-cuidado-personal"
          ],
          [
           "belleza-y-cuidado-personal"
          ],
          [
           "lacteos"
          ],
          [
           "lacteos"
          ],
          [
           "instantaneos-y-sopas"
          ],
          [
           "congelados"
          ],
          [
           "lacteos"
          ],
          [
           "congelados"
          ],
          [
           "congelados"
          ],
          [
           "congelados"
          ],
          [
           "(?)"
          ],
          [
           "belleza-y-cuidado-personal"
          ],
          [
           "instantaneos-y-sopas"
          ],
          [
           "lacteos"
          ],
          [
           "lacteos"
          ],
          [
           "lacteos"
          ],
          [
           "lacteos"
          ],
          [
           "belleza-y-cuidado-personal"
          ],
          [
           "belleza-y-cuidado-personal"
          ],
          [
           "belleza-y-cuidado-personal"
          ],
          [
           "congelados"
          ],
          [
           "congelados"
          ],
          [
           "congelados"
          ],
          [
           "lacteos"
          ],
          [
           "lacteos"
          ],
          [
           "belleza-y-cuidado-personal"
          ],
          [
           "lacteos"
          ],
          [
           "belleza-y-cuidado-personal"
          ],
          [
           "belleza-y-cuidado-personal"
          ],
          [
           "(?)"
          ],
          [
           "lacteos"
          ],
          [
           "belleza-y-cuidado-personal"
          ],
          [
           "belleza-y-cuidado-personal"
          ],
          [
           "belleza-y-cuidado-personal"
          ],
          [
           "belleza-y-cuidado-personal"
          ],
          [
           "lacteos"
          ],
          [
           "lacteos"
          ],
          [
           "comidas-preparadas"
          ],
          [
           "congelados"
          ],
          [
           "lacteos"
          ],
          [
           "belleza-y-cuidado-personal"
          ],
          [
           "belleza-y-cuidado-personal"
          ],
          [
           "belleza-y-cuidado-personal"
          ],
          [
           "belleza-y-cuidado-personal"
          ],
          [
           "congelados"
          ],
          [
           "congelados"
          ],
          [
           "(?)"
          ],
          [
           "(?)"
          ],
          [
           "congelados"
          ],
          [
           "lacteos"
          ],
          [
           "congelados"
          ],
          [
           "(?)"
          ],
          [
           "lacteos"
          ],
          [
           "congelados"
          ],
          [
           "belleza-y-cuidado-personal"
          ],
          [
           "belleza-y-cuidado-personal"
          ],
          [
           "belleza-y-cuidado-personal"
          ],
          [
           "lacteos"
          ],
          [
           "lacteos"
          ],
          [
           "belleza-y-cuidado-personal"
          ],
          [
           "belleza-y-cuidado-personal"
          ],
          [
           "frutas"
          ],
          [
           "comidas-preparadas"
          ],
          [
           "lacteos"
          ],
          [
           "lacteos"
          ],
          [
           "belleza-y-cuidado-personal"
          ],
          [
           "congelados"
          ],
          [
           "congelados"
          ],
          [
           "congelados"
          ],
          [
           "lacteos"
          ],
          [
           "lacteos"
          ],
          [
           "lacteos"
          ],
          [
           "belleza-y-cuidado-personal"
          ],
          [
           "congelados"
          ],
          [
           "instantaneos-y-sopas"
          ],
          [
           "belleza-y-cuidado-personal"
          ],
          [
           "congelados"
          ],
          [
           "belleza-y-cuidado-personal"
          ],
          [
           "belleza-y-cuidado-personal"
          ],
          [
           "congelados"
          ],
          [
           "lacteos"
          ],
          [
           "lacteos"
          ],
          [
           "congelados"
          ]
         ],
         "domain": {
          "x": [
           0,
           1
          ],
          "y": [
           0,
           1
          ]
         },
         "hovertemplate": "labels=%{label}<br>Desconto=%{value}<br>parent=%{parent}<br>id=%{id}<br>Categoria=%{customdata[0]}<extra></extra>",
         "ids": [
          "Plenitud/belleza-y-cuidado-personal",
          "Vanart/belleza-y-cuidado-personal",
          "Tío Nacho/belleza-y-cuidado-personal",
          "Trianon/belleza-y-cuidado-personal",
          "Calo/lacteos",
          "Chamyto/lacteos",
          "Chiquitín/lacteos",
          "1+1 Soprole/lacteos",
          "Sensodyne/belleza-y-cuidado-personal",
          "Schick/belleza-y-cuidado-personal",
          "Rexona Men Clinical/belleza-y-cuidado-personal",
          "Rexona Men/belleza-y-cuidado-personal",
          "Rexona Clinical/belleza-y-cuidado-personal",
          "Rexona/belleza-y-cuidado-personal",
          "Protex/belleza-y-cuidado-personal",
          "Cintazul/lacteos",
          "Cuisine & Co/comidas-preparadas",
          "La Crianza/comidas-preparadas",
          "PF/comidas-preparadas",
          "Tivoni/congelados",
          "Turkey Hill/congelados",
          "Mega/congelados",
          "Magnum/congelados",
          "Alcafood/instantaneos-y-sopas",
          "Cuisine & Co/instantaneos-y-sopas",
          "Guallarauco/congelados",
          "Frutos Del Maipo/congelados",
          "Fiesta/congelados",
          "Gourmet/instantaneos-y-sopas",
          "Bravissimo/congelados",
          "Naturezza/instantaneos-y-sopas",
          "Santa Isabel/comidas-preparadas",
          "Santa Isabel/instantaneos-y-sopas",
          "Traverso/instantaneos-y-sopas",
          "Super Pollo/congelados",
          "Pantene/belleza-y-cuidado-personal",
          "Sahne Nuss/congelados",
          "Familand/belleza-y-cuidado-personal",
          "Colgate/belleza-y-cuidado-personal",
          "Carefree/belleza-y-cuidado-personal",
          "Dento/belleza-y-cuidado-personal",
          "Dove/belleza-y-cuidado-personal",
          "Soprole/lacteos",
          "Surlat/lacteos",
          "BiO/belleza-y-cuidado-personal",
          "Bellekiss/belleza-y-cuidado-personal",
          "Regimel/lacteos",
          "Garnier/belleza-y-cuidado-personal",
          "Yogu - Yogu/lacteos",
          "Not Milk/lacteos",
          "Nestlé/lacteos",
          "Oikos/lacteos",
          "Ilicit/belleza-y-cuidado-personal",
          "Zerolacto/lacteos",
          "Nesquik/lacteos",
          "Linic/belleza-y-cuidado-personal",
          "Listerine/belleza-y-cuidado-personal",
          "Máxima MP/lacteos",
          "Cotidian/belleza-y-cuidado-personal",
          "Lefersa/lacteos",
          "Le Sancy/belleza-y-cuidado-personal",
          "Base Culinar/lacteos",
          "Carte Dor/congelados",
          "Elite/belleza-y-cuidado-personal",
          "Nivea/belleza-y-cuidado-personal",
          "Copacabana/lacteos",
          "Hoffmann/instantaneos-y-sopas",
          "Pamperita/lacteos",
          "Svelty/lacteos",
          "Frutas Y Verduras Propias/frutas",
          "Zole/congelados",
          "Viennetta Bresler/congelados",
          "Agrosano/verduras",
          "Cuisine & Co/lacteos",
          "Maggi/instantaneos-y-sopas",
          "Santa Isabel/lacteos",
          "San Ignacio/lacteos",
          "Deline/lacteos",
          "Sahne Nuss/lacteos",
          "Bonella/lacteos",
          "Marco Polo/lacteos",
          "Kumey/lacteos",
          "Collico/lacteos",
          "Colun/lacteos",
          "Crucina/lacteos",
          "Soprole Activ/lacteos",
          "Not Chicken/congelados",
          "Jumbo/verduras",
          "Tena/belleza-y-cuidado-personal",
          "Elvive/belleza-y-cuidado-personal",
          "Duralón/belleza-y-cuidado-personal",
          "Corbac/comidas-preparadas",
          "Giselle/belleza-y-cuidado-personal",
          "Cuisine & Co/congelados",
          "PF/congelados",
          "Alimentos Shen/congelados",
          "Ballerina/belleza-y-cuidado-personal",
          "Sedal/belleza-y-cuidado-personal",
          "Rikü/congelados",
          "Receta Del Abuelo/congelados",
          "Nivea For Men/belleza-y-cuidado-personal",
          "Speed Stick/belleza-y-cuidado-personal",
          "Omega 3/lacteos",
          "Simond'S/belleza-y-cuidado-personal",
          "Bredenmaster/comidas-preparadas",
          "Nosotras/belleza-y-cuidado-personal",
          "Rana/comidas-preparadas",
          "Gillette/belleza-y-cuidado-personal",
          "Rock/congelados",
          "Light & Free/lacteos",
          "San Francisco De Loncomilla/congelados",
          "Not Burger/congelados",
          "Sureña/lacteos",
          "Babyland/belleza-y-cuidado-personal",
          "Quillayes/lacteos",
          "Los Alerces/lacteos",
          "Lady Speed Stick/belleza-y-cuidado-personal",
          "Dole/verduras",
          "Kotex/belleza-y-cuidado-personal",
          "Aquafresh/belleza-y-cuidado-personal",
          "Herbal Essences/belleza-y-cuidado-personal",
          "Herbal/belleza-y-cuidado-personal",
          "Next/lacteos",
          "Brooks/belleza-y-cuidado-personal",
          "Nido/lacteos",
          "Head & Shoulders/belleza-y-cuidado-personal",
          "Cotosan/belleza-y-cuidado-personal",
          "Dove Men/belleza-y-cuidado-personal",
          "Signore Mario/lacteos",
          "Shake A Shake Lonco Leche/lacteos",
          "Santa Marta/lacteos",
          "Family Care/belleza-y-cuidado-personal",
          "Loncoleche/lacteos",
          "Fructis/belleza-y-cuidado-personal",
          "Qualy/lacteos",
          "Old Spice/belleza-y-cuidado-personal",
          "Naturella/belleza-y-cuidado-personal",
          "Sadia/congelados",
          "San Jorge/congelados",
          "Savory/congelados",
          "Super Beef/congelados",
          "Super Cerdo/congelados",
          "Not Ice Cream/congelados",
          "Frutas Y Verduras Propias/verduras",
          "Mister Veggie/congelados",
          "Minuto Verde/congelados",
          "Frutas Y Verduras Santa Isabel/frutas",
          "Sofruco/frutas",
          "La Crianza/congelados",
          "Ladysoft/belleza-y-cuidado-personal",
          "Carozzi/instantaneos-y-sopas",
          "Bresler/congelados",
          "Máxima MP/instantaneos-y-sopas",
          "Sadia/comidas-preparadas",
          "Activia/lacteos",
          "Astra/lacteos",
          "Calan/lacteos",
          "Oral-B/belleza-y-cuidado-personal",
          "Oral Fresh/belleza-y-cuidado-personal",
          "Danone/lacteos",
          "Ideal/lacteos",
          "King/congelados",
          "Always/belleza-y-cuidado-personal",
          "Solo Italia/comidas-preparadas",
          "Simonds/belleza-y-cuidado-personal",
          "Pepsodent/belleza-y-cuidado-personal",
          "Axe/belleza-y-cuidado-personal",
          "1+1 Soprole",
          "Activia",
          "Agrosano",
          "Alcafood",
          "Alimentos Shen",
          "Always",
          "Aquafresh",
          "Astra",
          "Axe",
          "Babyland",
          "Ballerina",
          "Base Culinar",
          "Bellekiss",
          "BiO",
          "Bonella",
          "Bravissimo",
          "Bredenmaster",
          "Bresler",
          "Brooks",
          "Calan",
          "Calo",
          "Carefree",
          "Carozzi",
          "Carte Dor",
          "Chamyto",
          "Chiquitín",
          "Cintazul",
          "Colgate",
          "Collico",
          "Colun",
          "Copacabana",
          "Corbac",
          "Cotidian",
          "Cotosan",
          "Crucina",
          "Cuisine & Co",
          "Danone",
          "Deline",
          "Dento",
          "Dole",
          "Dove",
          "Dove Men",
          "Duralón",
          "Elite",
          "Elvive",
          "Familand",
          "Family Care",
          "Fiesta",
          "Fructis",
          "Frutas Y Verduras Propias",
          "Frutas Y Verduras Santa Isabel",
          "Frutos Del Maipo",
          "Garnier",
          "Gillette",
          "Giselle",
          "Gourmet",
          "Guallarauco",
          "Head & Shoulders",
          "Herbal",
          "Herbal Essences",
          "Hoffmann",
          "Ideal",
          "Ilicit",
          "Jumbo",
          "King",
          "Kotex",
          "Kumey",
          "La Crianza",
          "Lady Speed Stick",
          "Ladysoft",
          "Le Sancy",
          "Lefersa",
          "Light & Free",
          "Linic",
          "Listerine",
          "Loncoleche",
          "Los Alerces",
          "Maggi",
          "Magnum",
          "Marco Polo",
          "Mega",
          "Minuto Verde",
          "Mister Veggie",
          "Máxima MP",
          "Naturella",
          "Naturezza",
          "Nesquik",
          "Nestlé",
          "Next",
          "Nido",
          "Nivea",
          "Nivea For Men",
          "Nosotras",
          "Not Burger",
          "Not Chicken",
          "Not Ice Cream",
          "Not Milk",
          "Oikos",
          "Old Spice",
          "Omega 3",
          "Oral Fresh",
          "Oral-B",
          "PF",
          "Pamperita",
          "Pantene",
          "Pepsodent",
          "Plenitud",
          "Protex",
          "Qualy",
          "Quillayes",
          "Rana",
          "Receta Del Abuelo",
          "Regimel",
          "Rexona",
          "Rexona Clinical",
          "Rexona Men",
          "Rexona Men Clinical",
          "Rikü",
          "Rock",
          "Sadia",
          "Sahne Nuss",
          "San Francisco De Loncomilla",
          "San Ignacio",
          "San Jorge",
          "Santa Isabel",
          "Santa Marta",
          "Savory",
          "Schick",
          "Sedal",
          "Sensodyne",
          "Shake A Shake Lonco Leche",
          "Signore Mario",
          "Simond'S",
          "Simonds",
          "Sofruco",
          "Solo Italia",
          "Soprole",
          "Soprole Activ",
          "Speed Stick",
          "Super Beef",
          "Super Cerdo",
          "Super Pollo",
          "Sureña",
          "Surlat",
          "Svelty",
          "Tena",
          "Tivoni",
          "Traverso",
          "Trianon",
          "Turkey Hill",
          "Tío Nacho",
          "Vanart",
          "Viennetta Bresler",
          "Yogu - Yogu",
          "Zerolacto",
          "Zole"
         ],
         "labels": [
          "belleza-y-cuidado-personal",
          "belleza-y-cuidado-personal",
          "belleza-y-cuidado-personal",
          "belleza-y-cuidado-personal",
          "lacteos",
          "lacteos",
          "lacteos",
          "lacteos",
          "belleza-y-cuidado-personal",
          "belleza-y-cuidado-personal",
          "belleza-y-cuidado-personal",
          "belleza-y-cuidado-personal",
          "belleza-y-cuidado-personal",
          "belleza-y-cuidado-personal",
          "belleza-y-cuidado-personal",
          "lacteos",
          "comidas-preparadas",
          "comidas-preparadas",
          "comidas-preparadas",
          "congelados",
          "congelados",
          "congelados",
          "congelados",
          "instantaneos-y-sopas",
          "instantaneos-y-sopas",
          "congelados",
          "congelados",
          "congelados",
          "instantaneos-y-sopas",
          "congelados",
          "instantaneos-y-sopas",
          "comidas-preparadas",
          "instantaneos-y-sopas",
          "instantaneos-y-sopas",
          "congelados",
          "belleza-y-cuidado-personal",
          "congelados",
          "belleza-y-cuidado-personal",
          "belleza-y-cuidado-personal",
          "belleza-y-cuidado-personal",
          "belleza-y-cuidado-personal",
          "belleza-y-cuidado-personal",
          "lacteos",
          "lacteos",
          "belleza-y-cuidado-personal",
          "belleza-y-cuidado-personal",
          "lacteos",
          "belleza-y-cuidado-personal",
          "lacteos",
          "lacteos",
          "lacteos",
          "lacteos",
          "belleza-y-cuidado-personal",
          "lacteos",
          "lacteos",
          "belleza-y-cuidado-personal",
          "belleza-y-cuidado-personal",
          "lacteos",
          "belleza-y-cuidado-personal",
          "lacteos",
          "belleza-y-cuidado-personal",
          "lacteos",
          "congelados",
          "belleza-y-cuidado-personal",
          "belleza-y-cuidado-personal",
          "lacteos",
          "instantaneos-y-sopas",
          "lacteos",
          "lacteos",
          "frutas",
          "congelados",
          "congelados",
          "verduras",
          "lacteos",
          "instantaneos-y-sopas",
          "lacteos",
          "lacteos",
          "lacteos",
          "lacteos",
          "lacteos",
          "lacteos",
          "lacteos",
          "lacteos",
          "lacteos",
          "lacteos",
          "lacteos",
          "congelados",
          "verduras",
          "belleza-y-cuidado-personal",
          "belleza-y-cuidado-personal",
          "belleza-y-cuidado-personal",
          "comidas-preparadas",
          "belleza-y-cuidado-personal",
          "congelados",
          "congelados",
          "congelados",
          "belleza-y-cuidado-personal",
          "belleza-y-cuidado-personal",
          "congelados",
          "congelados",
          "belleza-y-cuidado-personal",
          "belleza-y-cuidado-personal",
          "lacteos",
          "belleza-y-cuidado-personal",
          "comidas-preparadas",
          "belleza-y-cuidado-personal",
          "comidas-preparadas",
          "belleza-y-cuidado-personal",
          "congelados",
          "lacteos",
          "congelados",
          "congelados",
          "lacteos",
          "belleza-y-cuidado-personal",
          "lacteos",
          "lacteos",
          "belleza-y-cuidado-personal",
          "verduras",
          "belleza-y-cuidado-personal",
          "belleza-y-cuidado-personal",
          "belleza-y-cuidado-personal",
          "belleza-y-cuidado-personal",
          "lacteos",
          "belleza-y-cuidado-personal",
          "lacteos",
          "belleza-y-cuidado-personal",
          "belleza-y-cuidado-personal",
          "belleza-y-cuidado-personal",
          "lacteos",
          "lacteos",
          "lacteos",
          "belleza-y-cuidado-personal",
          "lacteos",
          "belleza-y-cuidado-personal",
          "lacteos",
          "belleza-y-cuidado-personal",
          "belleza-y-cuidado-personal",
          "congelados",
          "congelados",
          "congelados",
          "congelados",
          "congelados",
          "congelados",
          "verduras",
          "congelados",
          "congelados",
          "frutas",
          "frutas",
          "congelados",
          "belleza-y-cuidado-personal",
          "instantaneos-y-sopas",
          "congelados",
          "instantaneos-y-sopas",
          "comidas-preparadas",
          "lacteos",
          "lacteos",
          "lacteos",
          "belleza-y-cuidado-personal",
          "belleza-y-cuidado-personal",
          "lacteos",
          "lacteos",
          "congelados",
          "belleza-y-cuidado-personal",
          "comidas-preparadas",
          "belleza-y-cuidado-personal",
          "belleza-y-cuidado-personal",
          "belleza-y-cuidado-personal",
          "1+1 Soprole",
          "Activia",
          "Agrosano",
          "Alcafood",
          "Alimentos Shen",
          "Always",
          "Aquafresh",
          "Astra",
          "Axe",
          "Babyland",
          "Ballerina",
          "Base Culinar",
          "Bellekiss",
          "BiO",
          "Bonella",
          "Bravissimo",
          "Bredenmaster",
          "Bresler",
          "Brooks",
          "Calan",
          "Calo",
          "Carefree",
          "Carozzi",
          "Carte Dor",
          "Chamyto",
          "Chiquitín",
          "Cintazul",
          "Colgate",
          "Collico",
          "Colun",
          "Copacabana",
          "Corbac",
          "Cotidian",
          "Cotosan",
          "Crucina",
          "Cuisine & Co",
          "Danone",
          "Deline",
          "Dento",
          "Dole",
          "Dove",
          "Dove Men",
          "Duralón",
          "Elite",
          "Elvive",
          "Familand",
          "Family Care",
          "Fiesta",
          "Fructis",
          "Frutas Y Verduras Propias",
          "Frutas Y Verduras Santa Isabel",
          "Frutos Del Maipo",
          "Garnier",
          "Gillette",
          "Giselle",
          "Gourmet",
          "Guallarauco",
          "Head & Shoulders",
          "Herbal",
          "Herbal Essences",
          "Hoffmann",
          "Ideal",
          "Ilicit",
          "Jumbo",
          "King",
          "Kotex",
          "Kumey",
          "La Crianza",
          "Lady Speed Stick",
          "Ladysoft",
          "Le Sancy",
          "Lefersa",
          "Light & Free",
          "Linic",
          "Listerine",
          "Loncoleche",
          "Los Alerces",
          "Maggi",
          "Magnum",
          "Marco Polo",
          "Mega",
          "Minuto Verde",
          "Mister Veggie",
          "Máxima MP",
          "Naturella",
          "Naturezza",
          "Nesquik",
          "Nestlé",
          "Next",
          "Nido",
          "Nivea",
          "Nivea For Men",
          "Nosotras",
          "Not Burger",
          "Not Chicken",
          "Not Ice Cream",
          "Not Milk",
          "Oikos",
          "Old Spice",
          "Omega 3",
          "Oral Fresh",
          "Oral-B",
          "PF",
          "Pamperita",
          "Pantene",
          "Pepsodent",
          "Plenitud",
          "Protex",
          "Qualy",
          "Quillayes",
          "Rana",
          "Receta Del Abuelo",
          "Regimel",
          "Rexona",
          "Rexona Clinical",
          "Rexona Men",
          "Rexona Men Clinical",
          "Rikü",
          "Rock",
          "Sadia",
          "Sahne Nuss",
          "San Francisco De Loncomilla",
          "San Ignacio",
          "San Jorge",
          "Santa Isabel",
          "Santa Marta",
          "Savory",
          "Schick",
          "Sedal",
          "Sensodyne",
          "Shake A Shake Lonco Leche",
          "Signore Mario",
          "Simond'S",
          "Simonds",
          "Sofruco",
          "Solo Italia",
          "Soprole",
          "Soprole Activ",
          "Speed Stick",
          "Super Beef",
          "Super Cerdo",
          "Super Pollo",
          "Sureña",
          "Surlat",
          "Svelty",
          "Tena",
          "Tivoni",
          "Traverso",
          "Trianon",
          "Turkey Hill",
          "Tío Nacho",
          "Vanart",
          "Viennetta Bresler",
          "Yogu - Yogu",
          "Zerolacto",
          "Zole"
         ],
         "marker": {
          "colors": [
           "#636efa",
           "#636efa",
           "#636efa",
           "#636efa",
           "#EF553B",
           "#EF553B",
           "#EF553B",
           "#EF553B",
           "#636efa",
           "#636efa",
           "#636efa",
           "#636efa",
           "#636efa",
           "#636efa",
           "#636efa",
           "#EF553B",
           "#00cc96",
           "#00cc96",
           "#00cc96",
           "#ab63fa",
           "#ab63fa",
           "#ab63fa",
           "#ab63fa",
           "#FFA15A",
           "#FFA15A",
           "#ab63fa",
           "#ab63fa",
           "#ab63fa",
           "#FFA15A",
           "#ab63fa",
           "#FFA15A",
           "#00cc96",
           "#FFA15A",
           "#FFA15A",
           "#ab63fa",
           "#636efa",
           "#ab63fa",
           "#636efa",
           "#636efa",
           "#636efa",
           "#636efa",
           "#636efa",
           "#EF553B",
           "#EF553B",
           "#636efa",
           "#636efa",
           "#EF553B",
           "#636efa",
           "#EF553B",
           "#EF553B",
           "#EF553B",
           "#EF553B",
           "#636efa",
           "#EF553B",
           "#EF553B",
           "#636efa",
           "#636efa",
           "#EF553B",
           "#636efa",
           "#EF553B",
           "#636efa",
           "#EF553B",
           "#ab63fa",
           "#636efa",
           "#636efa",
           "#EF553B",
           "#FFA15A",
           "#EF553B",
           "#EF553B",
           "#19d3f3",
           "#ab63fa",
           "#ab63fa",
           "#FF6692",
           "#EF553B",
           "#FFA15A",
           "#EF553B",
           "#EF553B",
           "#EF553B",
           "#EF553B",
           "#EF553B",
           "#EF553B",
           "#EF553B",
           "#EF553B",
           "#EF553B",
           "#EF553B",
           "#EF553B",
           "#ab63fa",
           "#FF6692",
           "#636efa",
           "#636efa",
           "#636efa",
           "#00cc96",
           "#636efa",
           "#ab63fa",
           "#ab63fa",
           "#ab63fa",
           "#636efa",
           "#636efa",
           "#ab63fa",
           "#ab63fa",
           "#636efa",
           "#636efa",
           "#EF553B",
           "#636efa",
           "#00cc96",
           "#636efa",
           "#00cc96",
           "#636efa",
           "#ab63fa",
           "#EF553B",
           "#ab63fa",
           "#ab63fa",
           "#EF553B",
           "#636efa",
           "#EF553B",
           "#EF553B",
           "#636efa",
           "#FF6692",
           "#636efa",
           "#636efa",
           "#636efa",
           "#636efa",
           "#EF553B",
           "#636efa",
           "#EF553B",
           "#636efa",
           "#636efa",
           "#636efa",
           "#EF553B",
           "#EF553B",
           "#EF553B",
           "#636efa",
           "#EF553B",
           "#636efa",
           "#EF553B",
           "#636efa",
           "#636efa",
           "#ab63fa",
           "#ab63fa",
           "#ab63fa",
           "#ab63fa",
           "#ab63fa",
           "#ab63fa",
           "#FF6692",
           "#ab63fa",
           "#ab63fa",
           "#19d3f3",
           "#19d3f3",
           "#ab63fa",
           "#636efa",
           "#FFA15A",
           "#ab63fa",
           "#FFA15A",
           "#00cc96",
           "#EF553B",
           "#EF553B",
           "#EF553B",
           "#636efa",
           "#636efa",
           "#EF553B",
           "#EF553B",
           "#ab63fa",
           "#636efa",
           "#00cc96",
           "#636efa",
           "#636efa",
           "#636efa",
           "#EF553B",
           "#EF553B",
           "#FF6692",
           "#FFA15A",
           "#ab63fa",
           "#636efa",
           "#636efa",
           "#EF553B",
           "#636efa",
           "#636efa",
           "#636efa",
           "#EF553B",
           "#636efa",
           "#636efa",
           "#EF553B",
           "#ab63fa",
           "#00cc96",
           "#ab63fa",
           "#636efa",
           "#EF553B",
           "#EF553B",
           "#636efa",
           "#FFA15A",
           "#ab63fa",
           "#EF553B",
           "#EF553B",
           "#EF553B",
           "#636efa",
           "#EF553B",
           "#EF553B",
           "#EF553B",
           "#00cc96",
           "#636efa",
           "#636efa",
           "#EF553B",
           "#B6E880",
           "#EF553B",
           "#EF553B",
           "#636efa",
           "#FF6692",
           "#636efa",
           "#636efa",
           "#636efa",
           "#636efa",
           "#636efa",
           "#636efa",
           "#636efa",
           "#ab63fa",
           "#636efa",
           "#B6E880",
           "#19d3f3",
           "#ab63fa",
           "#636efa",
           "#636efa",
           "#636efa",
           "#FFA15A",
           "#ab63fa",
           "#636efa",
           "#636efa",
           "#636efa",
           "#FFA15A",
           "#EF553B",
           "#636efa",
           "#FF6692",
           "#ab63fa",
           "#636efa",
           "#EF553B",
           "#B6E880",
           "#636efa",
           "#636efa",
           "#636efa",
           "#EF553B",
           "#EF553B",
           "#636efa",
           "#636efa",
           "#EF553B",
           "#EF553B",
           "#FFA15A",
           "#ab63fa",
           "#EF553B",
           "#ab63fa",
           "#ab63fa",
           "#ab63fa",
           "#B6E880",
           "#636efa",
           "#FFA15A",
           "#EF553B",
           "#EF553B",
           "#EF553B",
           "#EF553B",
           "#636efa",
           "#636efa",
           "#636efa",
           "#ab63fa",
           "#ab63fa",
           "#ab63fa",
           "#EF553B",
           "#EF553B",
           "#636efa",
           "#EF553B",
           "#636efa",
           "#636efa",
           "#B6E880",
           "#EF553B",
           "#636efa",
           "#636efa",
           "#636efa",
           "#636efa",
           "#EF553B",
           "#EF553B",
           "#00cc96",
           "#ab63fa",
           "#EF553B",
           "#636efa",
           "#636efa",
           "#636efa",
           "#636efa",
           "#ab63fa",
           "#ab63fa",
           "#B6E880",
           "#B6E880",
           "#ab63fa",
           "#EF553B",
           "#ab63fa",
           "#B6E880",
           "#EF553B",
           "#ab63fa",
           "#636efa",
           "#636efa",
           "#636efa",
           "#EF553B",
           "#EF553B",
           "#636efa",
           "#636efa",
           "#19d3f3",
           "#00cc96",
           "#EF553B",
           "#EF553B",
           "#636efa",
           "#ab63fa",
           "#ab63fa",
           "#ab63fa",
           "#EF553B",
           "#EF553B",
           "#EF553B",
           "#636efa",
           "#ab63fa",
           "#FFA15A",
           "#636efa",
           "#ab63fa",
           "#636efa",
           "#636efa",
           "#ab63fa",
           "#EF553B",
           "#EF553B",
           "#ab63fa"
          ]
         },
         "name": "",
         "parents": [
          "Plenitud",
          "Vanart",
          "Tío Nacho",
          "Trianon",
          "Calo",
          "Chamyto",
          "Chiquitín",
          "1+1 Soprole",
          "Sensodyne",
          "Schick",
          "Rexona Men Clinical",
          "Rexona Men",
          "Rexona Clinical",
          "Rexona",
          "Protex",
          "Cintazul",
          "Cuisine & Co",
          "La Crianza",
          "PF",
          "Tivoni",
          "Turkey Hill",
          "Mega",
          "Magnum",
          "Alcafood",
          "Cuisine & Co",
          "Guallarauco",
          "Frutos Del Maipo",
          "Fiesta",
          "Gourmet",
          "Bravissimo",
          "Naturezza",
          "Santa Isabel",
          "Santa Isabel",
          "Traverso",
          "Super Pollo",
          "Pantene",
          "Sahne Nuss",
          "Familand",
          "Colgate",
          "Carefree",
          "Dento",
          "Dove",
          "Soprole",
          "Surlat",
          "BiO",
          "Bellekiss",
          "Regimel",
          "Garnier",
          "Yogu - Yogu",
          "Not Milk",
          "Nestlé",
          "Oikos",
          "Ilicit",
          "Zerolacto",
          "Nesquik",
          "Linic",
          "Listerine",
          "Máxima MP",
          "Cotidian",
          "Lefersa",
          "Le Sancy",
          "Base Culinar",
          "Carte Dor",
          "Elite",
          "Nivea",
          "Copacabana",
          "Hoffmann",
          "Pamperita",
          "Svelty",
          "Frutas Y Verduras Propias",
          "Zole",
          "Viennetta Bresler",
          "Agrosano",
          "Cuisine & Co",
          "Maggi",
          "Santa Isabel",
          "San Ignacio",
          "Deline",
          "Sahne Nuss",
          "Bonella",
          "Marco Polo",
          "Kumey",
          "Collico",
          "Colun",
          "Crucina",
          "Soprole Activ",
          "Not Chicken",
          "Jumbo",
          "Tena",
          "Elvive",
          "Duralón",
          "Corbac",
          "Giselle",
          "Cuisine & Co",
          "PF",
          "Alimentos Shen",
          "Ballerina",
          "Sedal",
          "Rikü",
          "Receta Del Abuelo",
          "Nivea For Men",
          "Speed Stick",
          "Omega 3",
          "Simond'S",
          "Bredenmaster",
          "Nosotras",
          "Rana",
          "Gillette",
          "Rock",
          "Light & Free",
          "San Francisco De Loncomilla",
          "Not Burger",
          "Sureña",
          "Babyland",
          "Quillayes",
          "Los Alerces",
          "Lady Speed Stick",
          "Dole",
          "Kotex",
          "Aquafresh",
          "Herbal Essences",
          "Herbal",
          "Next",
          "Brooks",
          "Nido",
          "Head & Shoulders",
          "Cotosan",
          "Dove Men",
          "Signore Mario",
          "Shake A Shake Lonco Leche",
          "Santa Marta",
          "Family Care",
          "Loncoleche",
          "Fructis",
          "Qualy",
          "Old Spice",
          "Naturella",
          "Sadia",
          "San Jorge",
          "Savory",
          "Super Beef",
          "Super Cerdo",
          "Not Ice Cream",
          "Frutas Y Verduras Propias",
          "Mister Veggie",
          "Minuto Verde",
          "Frutas Y Verduras Santa Isabel",
          "Sofruco",
          "La Crianza",
          "Ladysoft",
          "Carozzi",
          "Bresler",
          "Máxima MP",
          "Sadia",
          "Activia",
          "Astra",
          "Calan",
          "Oral-B",
          "Oral Fresh",
          "Danone",
          "Ideal",
          "King",
          "Always",
          "Solo Italia",
          "Simonds",
          "Pepsodent",
          "Axe",
          "",
          "",
          "",
          "",
          "",
          "",
          "",
          "",
          "",
          "",
          "",
          "",
          "",
          "",
          "",
          "",
          "",
          "",
          "",
          "",
          "",
          "",
          "",
          "",
          "",
          "",
          "",
          "",
          "",
          "",
          "",
          "",
          "",
          "",
          "",
          "",
          "",
          "",
          "",
          "",
          "",
          "",
          "",
          "",
          "",
          "",
          "",
          "",
          "",
          "",
          "",
          "",
          "",
          "",
          "",
          "",
          "",
          "",
          "",
          "",
          "",
          "",
          "",
          "",
          "",
          "",
          "",
          "",
          "",
          "",
          "",
          "",
          "",
          "",
          "",
          "",
          "",
          "",
          "",
          "",
          "",
          "",
          "",
          "",
          "",
          "",
          "",
          "",
          "",
          "",
          "",
          "",
          "",
          "",
          "",
          "",
          "",
          "",
          "",
          "",
          "",
          "",
          "",
          "",
          "",
          "",
          "",
          "",
          "",
          "",
          "",
          "",
          "",
          "",
          "",
          "",
          "",
          "",
          "",
          "",
          "",
          "",
          "",
          "",
          "",
          "",
          "",
          "",
          "",
          "",
          "",
          "",
          "",
          "",
          "",
          "",
          "",
          "",
          "",
          "",
          "",
          "",
          "",
          "",
          "",
          "",
          "",
          "",
          "",
          "",
          "",
          "",
          "",
          "",
          "",
          ""
         ],
         "type": "treemap",
         "values": [
          0,
          0,
          0,
          0,
          0,
          0,
          0,
          0,
          0,
          0,
          795,
          660,
          795,
          660,
          304.5,
          0,
          0,
          0,
          200,
          0,
          0,
          657,
          955,
          0,
          0,
          0,
          136.26666666666668,
          0,
          0,
          0,
          0,
          0,
          0,
          0,
          0,
          684.8571428571429,
          164.25,
          0,
          117.0952380952381,
          0,
          0,
          429.8666666666667,
          10.852941176470589,
          0,
          650,
          0,
          0,
          0,
          0,
          160,
          1.7674418604651163,
          0,
          0,
          0,
          0,
          0,
          0,
          0,
          0,
          0,
          0,
          0,
          357.5,
          0,
          0,
          0,
          0,
          0,
          0,
          0,
          0,
          546,
          0,
          16.318181818181817,
          0,
          0,
          0,
          0,
          0,
          0,
          0,
          0,
          0,
          4.471264367816092,
          0,
          0,
          0,
          0,
          0,
          0,
          0,
          0,
          0,
          148.34285714285716,
          0,
          0,
          34.083333333333336,
          0,
          0,
          0,
          0,
          0,
          0,
          0,
          0,
          103.45454545454545,
          0,
          0,
          0,
          0,
          0,
          210,
          261,
          0,
          0,
          0,
          0,
          0,
          55.166666666666664,
          444.6666666666667,
          0,
          0,
          0,
          0,
          869.8,
          0,
          0,
          252.25,
          0,
          0,
          149.5,
          0,
          0,
          0,
          0,
          0,
          0,
          0,
          70,
          456.15625,
          120,
          0,
          0,
          0,
          0,
          19.5,
          0,
          0,
          0,
          94.83333333333333,
          0,
          429.7857142857143,
          0,
          0,
          0,
          0,
          0,
          88.55555555555556,
          797,
          0,
          0,
          0,
          123.75,
          0,
          300,
          344.3333333333333,
          590,
          0,
          0,
          0,
          0,
          0,
          123.75,
          444.6666666666667,
          0,
          590,
          0,
          34.083333333333336,
          0,
          0,
          650,
          0,
          0,
          0,
          429.7857142857143,
          0,
          0,
          0,
          0,
          0,
          357.5,
          0,
          0,
          0,
          117.0952380952381,
          0,
          4.471264367816092,
          0,
          0,
          0,
          0,
          0,
          164.66103896103897,
          0,
          0,
          0,
          0,
          429.8666666666667,
          252.25,
          0,
          0,
          0,
          0,
          0,
          0,
          0,
          0,
          0,
          136.26666666666668,
          0,
          0,
          0,
          0,
          0,
          0,
          0,
          0,
          0,
          0,
          0,
          0,
          0,
          55.166666666666664,
          0,
          0,
          0,
          94.83333333333333,
          0,
          0,
          0,
          0,
          0,
          0,
          0,
          0,
          955,
          0,
          657,
          19.5,
          0,
          0,
          0,
          0,
          0,
          1.7674418604651163,
          0,
          869.8,
          0,
          0,
          103.45454545454545,
          210,
          0,
          0,
          160,
          0,
          0,
          0,
          797,
          88.55555555555556,
          200,
          0,
          684.8571428571429,
          344.3333333333333,
          0,
          304.5,
          0,
          0,
          0,
          0,
          0,
          660,
          795,
          660,
          795,
          0,
          0,
          0,
          164.25,
          0,
          0,
          70,
          0,
          149.5,
          456.15625,
          0,
          0,
          0,
          0,
          0,
          0,
          300,
          0,
          0,
          10.852941176470589,
          0,
          0,
          120,
          0,
          0,
          261,
          0,
          0,
          0,
          0,
          0,
          0,
          0,
          0,
          0,
          546,
          0,
          0,
          0
         ]
        }
       ],
       "layout": {
        "autosize": true,
        "legend": {
         "tracegroupgap": 0
        },
        "template": {
         "data": {
          "bar": [
           {
            "error_x": {
             "color": "#2a3f5f"
            },
            "error_y": {
             "color": "#2a3f5f"
            },
            "marker": {
             "line": {
              "color": "#E5ECF6",
              "width": 0.5
             },
             "pattern": {
              "fillmode": "overlay",
              "size": 10,
              "solidity": 0.2
             }
            },
            "type": "bar"
           }
          ],
          "barpolar": [
           {
            "marker": {
             "line": {
              "color": "#E5ECF6",
              "width": 0.5
             },
             "pattern": {
              "fillmode": "overlay",
              "size": 10,
              "solidity": 0.2
             }
            },
            "type": "barpolar"
           }
          ],
          "carpet": [
           {
            "aaxis": {
             "endlinecolor": "#2a3f5f",
             "gridcolor": "white",
             "linecolor": "white",
             "minorgridcolor": "white",
             "startlinecolor": "#2a3f5f"
            },
            "baxis": {
             "endlinecolor": "#2a3f5f",
             "gridcolor": "white",
             "linecolor": "white",
             "minorgridcolor": "white",
             "startlinecolor": "#2a3f5f"
            },
            "type": "carpet"
           }
          ],
          "choropleth": [
           {
            "colorbar": {
             "outlinewidth": 0,
             "ticks": ""
            },
            "type": "choropleth"
           }
          ],
          "contour": [
           {
            "colorbar": {
             "outlinewidth": 0,
             "ticks": ""
            },
            "colorscale": [
             [
              0,
              "#0d0887"
             ],
             [
              0.1111111111111111,
              "#46039f"
             ],
             [
              0.2222222222222222,
              "#7201a8"
             ],
             [
              0.3333333333333333,
              "#9c179e"
             ],
             [
              0.4444444444444444,
              "#bd3786"
             ],
             [
              0.5555555555555556,
              "#d8576b"
             ],
             [
              0.6666666666666666,
              "#ed7953"
             ],
             [
              0.7777777777777778,
              "#fb9f3a"
             ],
             [
              0.8888888888888888,
              "#fdca26"
             ],
             [
              1,
              "#f0f921"
             ]
            ],
            "type": "contour"
           }
          ],
          "contourcarpet": [
           {
            "colorbar": {
             "outlinewidth": 0,
             "ticks": ""
            },
            "type": "contourcarpet"
           }
          ],
          "heatmap": [
           {
            "colorbar": {
             "outlinewidth": 0,
             "ticks": ""
            },
            "colorscale": [
             [
              0,
              "#0d0887"
             ],
             [
              0.1111111111111111,
              "#46039f"
             ],
             [
              0.2222222222222222,
              "#7201a8"
             ],
             [
              0.3333333333333333,
              "#9c179e"
             ],
             [
              0.4444444444444444,
              "#bd3786"
             ],
             [
              0.5555555555555556,
              "#d8576b"
             ],
             [
              0.6666666666666666,
              "#ed7953"
             ],
             [
              0.7777777777777778,
              "#fb9f3a"
             ],
             [
              0.8888888888888888,
              "#fdca26"
             ],
             [
              1,
              "#f0f921"
             ]
            ],
            "type": "heatmap"
           }
          ],
          "heatmapgl": [
           {
            "colorbar": {
             "outlinewidth": 0,
             "ticks": ""
            },
            "colorscale": [
             [
              0,
              "#0d0887"
             ],
             [
              0.1111111111111111,
              "#46039f"
             ],
             [
              0.2222222222222222,
              "#7201a8"
             ],
             [
              0.3333333333333333,
              "#9c179e"
             ],
             [
              0.4444444444444444,
              "#bd3786"
             ],
             [
              0.5555555555555556,
              "#d8576b"
             ],
             [
              0.6666666666666666,
              "#ed7953"
             ],
             [
              0.7777777777777778,
              "#fb9f3a"
             ],
             [
              0.8888888888888888,
              "#fdca26"
             ],
             [
              1,
              "#f0f921"
             ]
            ],
            "type": "heatmapgl"
           }
          ],
          "histogram": [
           {
            "marker": {
             "pattern": {
              "fillmode": "overlay",
              "size": 10,
              "solidity": 0.2
             }
            },
            "type": "histogram"
           }
          ],
          "histogram2d": [
           {
            "colorbar": {
             "outlinewidth": 0,
             "ticks": ""
            },
            "colorscale": [
             [
              0,
              "#0d0887"
             ],
             [
              0.1111111111111111,
              "#46039f"
             ],
             [
              0.2222222222222222,
              "#7201a8"
             ],
             [
              0.3333333333333333,
              "#9c179e"
             ],
             [
              0.4444444444444444,
              "#bd3786"
             ],
             [
              0.5555555555555556,
              "#d8576b"
             ],
             [
              0.6666666666666666,
              "#ed7953"
             ],
             [
              0.7777777777777778,
              "#fb9f3a"
             ],
             [
              0.8888888888888888,
              "#fdca26"
             ],
             [
              1,
              "#f0f921"
             ]
            ],
            "type": "histogram2d"
           }
          ],
          "histogram2dcontour": [
           {
            "colorbar": {
             "outlinewidth": 0,
             "ticks": ""
            },
            "colorscale": [
             [
              0,
              "#0d0887"
             ],
             [
              0.1111111111111111,
              "#46039f"
             ],
             [
              0.2222222222222222,
              "#7201a8"
             ],
             [
              0.3333333333333333,
              "#9c179e"
             ],
             [
              0.4444444444444444,
              "#bd3786"
             ],
             [
              0.5555555555555556,
              "#d8576b"
             ],
             [
              0.6666666666666666,
              "#ed7953"
             ],
             [
              0.7777777777777778,
              "#fb9f3a"
             ],
             [
              0.8888888888888888,
              "#fdca26"
             ],
             [
              1,
              "#f0f921"
             ]
            ],
            "type": "histogram2dcontour"
           }
          ],
          "mesh3d": [
           {
            "colorbar": {
             "outlinewidth": 0,
             "ticks": ""
            },
            "type": "mesh3d"
           }
          ],
          "parcoords": [
           {
            "line": {
             "colorbar": {
              "outlinewidth": 0,
              "ticks": ""
             }
            },
            "type": "parcoords"
           }
          ],
          "pie": [
           {
            "automargin": true,
            "type": "pie"
           }
          ],
          "scatter": [
           {
            "fillpattern": {
             "fillmode": "overlay",
             "size": 10,
             "solidity": 0.2
            },
            "type": "scatter"
           }
          ],
          "scatter3d": [
           {
            "line": {
             "colorbar": {
              "outlinewidth": 0,
              "ticks": ""
             }
            },
            "marker": {
             "colorbar": {
              "outlinewidth": 0,
              "ticks": ""
             }
            },
            "type": "scatter3d"
           }
          ],
          "scattercarpet": [
           {
            "marker": {
             "colorbar": {
              "outlinewidth": 0,
              "ticks": ""
             }
            },
            "type": "scattercarpet"
           }
          ],
          "scattergeo": [
           {
            "marker": {
             "colorbar": {
              "outlinewidth": 0,
              "ticks": ""
             }
            },
            "type": "scattergeo"
           }
          ],
          "scattergl": [
           {
            "marker": {
             "colorbar": {
              "outlinewidth": 0,
              "ticks": ""
             }
            },
            "type": "scattergl"
           }
          ],
          "scattermapbox": [
           {
            "marker": {
             "colorbar": {
              "outlinewidth": 0,
              "ticks": ""
             }
            },
            "type": "scattermapbox"
           }
          ],
          "scatterpolar": [
           {
            "marker": {
             "colorbar": {
              "outlinewidth": 0,
              "ticks": ""
             }
            },
            "type": "scatterpolar"
           }
          ],
          "scatterpolargl": [
           {
            "marker": {
             "colorbar": {
              "outlinewidth": 0,
              "ticks": ""
             }
            },
            "type": "scatterpolargl"
           }
          ],
          "scatterternary": [
           {
            "marker": {
             "colorbar": {
              "outlinewidth": 0,
              "ticks": ""
             }
            },
            "type": "scatterternary"
           }
          ],
          "surface": [
           {
            "colorbar": {
             "outlinewidth": 0,
             "ticks": ""
            },
            "colorscale": [
             [
              0,
              "#0d0887"
             ],
             [
              0.1111111111111111,
              "#46039f"
             ],
             [
              0.2222222222222222,
              "#7201a8"
             ],
             [
              0.3333333333333333,
              "#9c179e"
             ],
             [
              0.4444444444444444,
              "#bd3786"
             ],
             [
              0.5555555555555556,
              "#d8576b"
             ],
             [
              0.6666666666666666,
              "#ed7953"
             ],
             [
              0.7777777777777778,
              "#fb9f3a"
             ],
             [
              0.8888888888888888,
              "#fdca26"
             ],
             [
              1,
              "#f0f921"
             ]
            ],
            "type": "surface"
           }
          ],
          "table": [
           {
            "cells": {
             "fill": {
              "color": "#EBF0F8"
             },
             "line": {
              "color": "white"
             }
            },
            "header": {
             "fill": {
              "color": "#C8D4E3"
             },
             "line": {
              "color": "white"
             }
            },
            "type": "table"
           }
          ]
         },
         "layout": {
          "annotationdefaults": {
           "arrowcolor": "#2a3f5f",
           "arrowhead": 0,
           "arrowwidth": 1
          },
          "autotypenumbers": "strict",
          "coloraxis": {
           "colorbar": {
            "outlinewidth": 0,
            "ticks": ""
           }
          },
          "colorscale": {
           "diverging": [
            [
             0,
             "#8e0152"
            ],
            [
             0.1,
             "#c51b7d"
            ],
            [
             0.2,
             "#de77ae"
            ],
            [
             0.3,
             "#f1b6da"
            ],
            [
             0.4,
             "#fde0ef"
            ],
            [
             0.5,
             "#f7f7f7"
            ],
            [
             0.6,
             "#e6f5d0"
            ],
            [
             0.7,
             "#b8e186"
            ],
            [
             0.8,
             "#7fbc41"
            ],
            [
             0.9,
             "#4d9221"
            ],
            [
             1,
             "#276419"
            ]
           ],
           "sequential": [
            [
             0,
             "#0d0887"
            ],
            [
             0.1111111111111111,
             "#46039f"
            ],
            [
             0.2222222222222222,
             "#7201a8"
            ],
            [
             0.3333333333333333,
             "#9c179e"
            ],
            [
             0.4444444444444444,
             "#bd3786"
            ],
            [
             0.5555555555555556,
             "#d8576b"
            ],
            [
             0.6666666666666666,
             "#ed7953"
            ],
            [
             0.7777777777777778,
             "#fb9f3a"
            ],
            [
             0.8888888888888888,
             "#fdca26"
            ],
            [
             1,
             "#f0f921"
            ]
           ],
           "sequentialminus": [
            [
             0,
             "#0d0887"
            ],
            [
             0.1111111111111111,
             "#46039f"
            ],
            [
             0.2222222222222222,
             "#7201a8"
            ],
            [
             0.3333333333333333,
             "#9c179e"
            ],
            [
             0.4444444444444444,
             "#bd3786"
            ],
            [
             0.5555555555555556,
             "#d8576b"
            ],
            [
             0.6666666666666666,
             "#ed7953"
            ],
            [
             0.7777777777777778,
             "#fb9f3a"
            ],
            [
             0.8888888888888888,
             "#fdca26"
            ],
            [
             1,
             "#f0f921"
            ]
           ]
          },
          "colorway": [
           "#636efa",
           "#EF553B",
           "#00cc96",
           "#ab63fa",
           "#FFA15A",
           "#19d3f3",
           "#FF6692",
           "#B6E880",
           "#FF97FF",
           "#FECB52"
          ],
          "font": {
           "color": "#2a3f5f"
          },
          "geo": {
           "bgcolor": "white",
           "lakecolor": "white",
           "landcolor": "#E5ECF6",
           "showlakes": true,
           "showland": true,
           "subunitcolor": "white"
          },
          "hoverlabel": {
           "align": "left"
          },
          "hovermode": "closest",
          "mapbox": {
           "style": "light"
          },
          "paper_bgcolor": "white",
          "plot_bgcolor": "#E5ECF6",
          "polar": {
           "angularaxis": {
            "gridcolor": "white",
            "linecolor": "white",
            "ticks": ""
           },
           "bgcolor": "#E5ECF6",
           "radialaxis": {
            "gridcolor": "white",
            "linecolor": "white",
            "ticks": ""
           }
          },
          "scene": {
           "xaxis": {
            "backgroundcolor": "#E5ECF6",
            "gridcolor": "white",
            "gridwidth": 2,
            "linecolor": "white",
            "showbackground": true,
            "ticks": "",
            "zerolinecolor": "white"
           },
           "yaxis": {
            "backgroundcolor": "#E5ECF6",
            "gridcolor": "white",
            "gridwidth": 2,
            "linecolor": "white",
            "showbackground": true,
            "ticks": "",
            "zerolinecolor": "white"
           },
           "zaxis": {
            "backgroundcolor": "#E5ECF6",
            "gridcolor": "white",
            "gridwidth": 2,
            "linecolor": "white",
            "showbackground": true,
            "ticks": "",
            "zerolinecolor": "white"
           }
          },
          "shapedefaults": {
           "line": {
            "color": "#2a3f5f"
           }
          },
          "ternary": {
           "aaxis": {
            "gridcolor": "white",
            "linecolor": "white",
            "ticks": ""
           },
           "baxis": {
            "gridcolor": "white",
            "linecolor": "white",
            "ticks": ""
           },
           "bgcolor": "#E5ECF6",
           "caxis": {
            "gridcolor": "white",
            "linecolor": "white",
            "ticks": ""
           }
          },
          "title": {
           "x": 0.05
          },
          "xaxis": {
           "automargin": true,
           "gridcolor": "white",
           "linecolor": "white",
           "ticks": "",
           "title": {
            "standoff": 15
           },
           "zerolinecolor": "white",
           "zerolinewidth": 2
          },
          "yaxis": {
           "automargin": true,
           "gridcolor": "white",
           "linecolor": "white",
           "ticks": "",
           "title": {
            "standoff": 15
           },
           "zerolinecolor": "white",
           "zerolinewidth": 2
          }
         }
        },
        "title": {
         "text": "Desconto por Marca e Categoria"
        }
       }
      },
      "image/png": "[encoded data removed]",
      "text/html": [
       "<div>                            <div id=\"fd56ce8a-9cd5-4a27-b9a9-7e6c0082db58\" class=\"plotly-graph-div\" style=\"height:525px; width:100%;\"></div>            <script type=\"text/javascript\">                require([\"plotly\"], function(Plotly) {                    window.PLOTLYENV=window.PLOTLYENV || {};                                    if (document.getElementById(\"fd56ce8a-9cd5-4a27-b9a9-7e6c0082db58\")) {                    Plotly.newPlot(                        \"fd56ce8a-9cd5-4a27-b9a9-7e6c0082db58\",                        [{\"branchvalues\":\"total\",\"customdata\":[[\"belleza-y-cuidado-personal\"],[\"belleza-y-cuidado-personal\"],[\"belleza-y-cuidado-personal\"],[\"belleza-y-cuidado-personal\"],[\"lacteos\"],[\"lacteos\"],[\"lacteos\"],[\"lacteos\"],[\"belleza-y-cuidado-personal\"],[\"belleza-y-cuidado-personal\"],[\"belleza-y-cuidado-personal\"],[\"belleza-y-cuidado-personal\"],[\"belleza-y-cuidado-personal\"],[\"belleza-y-cuidado-personal\"],[\"belleza-y-cuidado-personal\"],[\"lacteos\"],[\"comidas-preparadas\"],[\"comidas-preparadas\"],[\"comidas-preparadas\"],[\"congelados\"],[\"congelados\"],[\"congelados\"],[\"congelados\"],[\"instantaneos-y-sopas\"],[\"instantaneos-y-sopas\"],[\"congelados\"],[\"congelados\"],[\"congelados\"],[\"instantaneos-y-sopas\"],[\"congelados\"],[\"instantaneos-y-sopas\"],[\"comidas-preparadas\"],[\"instantaneos-y-sopas\"],[\"instantaneos-y-sopas\"],[\"congelados\"],[\"belleza-y-cuidado-personal\"],[\"congelados\"],[\"belleza-y-cuidado-personal\"],[\"belleza-y-cuidado-personal\"],[\"belleza-y-cuidado-personal\"],[\"belleza-y-cuidado-personal\"],[\"belleza-y-cuidado-personal\"],[\"lacteos\"],[\"lacteos\"],[\"belleza-y-cuidado-personal\"],[\"belleza-y-cuidado-personal\"],[\"lacteos\"],[\"belleza-y-cuidado-personal\"],[\"lacteos\"],[\"lacteos\"],[\"lacteos\"],[\"lacteos\"],[\"belleza-y-cuidado-personal\"],[\"lacteos\"],[\"lacteos\"],[\"belleza-y-cuidado-personal\"],[\"belleza-y-cuidado-personal\"],[\"lacteos\"],[\"belleza-y-cuidado-personal\"],[\"lacteos\"],[\"belleza-y-cuidado-personal\"],[\"lacteos\"],[\"congelados\"],[\"belleza-y-cuidado-personal\"],[\"belleza-y-cuidado-personal\"],[\"lacteos\"],[\"instantaneos-y-sopas\"],[\"lacteos\"],[\"lacteos\"],[\"frutas\"],[\"congelados\"],[\"congelados\"],[\"verduras\"],[\"lacteos\"],[\"instantaneos-y-sopas\"],[\"lacteos\"],[\"lacteos\"],[\"lacteos\"],[\"lacteos\"],[\"lacteos\"],[\"lacteos\"],[\"lacteos\"],[\"lacteos\"],[\"lacteos\"],[\"lacteos\"],[\"lacteos\"],[\"congelados\"],[\"verduras\"],[\"belleza-y-cuidado-personal\"],[\"belleza-y-cuidado-personal\"],[\"belleza-y-cuidado-personal\"],[\"comidas-preparadas\"],[\"belleza-y-cuidado-personal\"],[\"congelados\"],[\"congelados\"],[\"congelados\"],[\"belleza-y-cuidado-personal\"],[\"belleza-y-cuidado-personal\"],[\"congelados\"],[\"congelados\"],[\"belleza-y-cuidado-personal\"],[\"belleza-y-cuidado-personal\"],[\"lacteos\"],[\"belleza-y-cuidado-personal\"],[\"comidas-preparadas\"],[\"belleza-y-cuidado-personal\"],[\"comidas-preparadas\"],[\"belleza-y-cuidado-personal\"],[\"congelados\"],[\"lacteos\"],[\"congelados\"],[\"congelados\"],[\"lacteos\"],[\"belleza-y-cuidado-personal\"],[\"lacteos\"],[\"lacteos\"],[\"belleza-y-cuidado-personal\"],[\"verduras\"],[\"belleza-y-cuidado-personal\"],[\"belleza-y-cuidado-personal\"],[\"belleza-y-cuidado-personal\"],[\"belleza-y-cuidado-personal\"],[\"lacteos\"],[\"belleza-y-cuidado-personal\"],[\"lacteos\"],[\"belleza-y-cuidado-personal\"],[\"belleza-y-cuidado-personal\"],[\"belleza-y-cuidado-personal\"],[\"lacteos\"],[\"lacteos\"],[\"lacteos\"],[\"belleza-y-cuidado-personal\"],[\"lacteos\"],[\"belleza-y-cuidado-personal\"],[\"lacteos\"],[\"belleza-y-cuidado-personal\"],[\"belleza-y-cuidado-personal\"],[\"congelados\"],[\"congelados\"],[\"congelados\"],[\"congelados\"],[\"congelados\"],[\"congelados\"],[\"verduras\"],[\"congelados\"],[\"congelados\"],[\"frutas\"],[\"frutas\"],[\"congelados\"],[\"belleza-y-cuidado-personal\"],[\"instantaneos-y-sopas\"],[\"congelados\"],[\"instantaneos-y-sopas\"],[\"comidas-preparadas\"],[\"lacteos\"],[\"lacteos\"],[\"lacteos\"],[\"belleza-y-cuidado-personal\"],[\"belleza-y-cuidado-personal\"],[\"lacteos\"],[\"lacteos\"],[\"congelados\"],[\"belleza-y-cuidado-personal\"],[\"comidas-preparadas\"],[\"belleza-y-cuidado-personal\"],[\"belleza-y-cuidado-personal\"],[\"belleza-y-cuidado-personal\"],[\"lacteos\"],[\"lacteos\"],[\"verduras\"],[\"instantaneos-y-sopas\"],[\"congelados\"],[\"belleza-y-cuidado-personal\"],[\"belleza-y-cuidado-personal\"],[\"lacteos\"],[\"belleza-y-cuidado-personal\"],[\"belleza-y-cuidado-personal\"],[\"belleza-y-cuidado-personal\"],[\"lacteos\"],[\"belleza-y-cuidado-personal\"],[\"belleza-y-cuidado-personal\"],[\"lacteos\"],[\"congelados\"],[\"comidas-preparadas\"],[\"congelados\"],[\"belleza-y-cuidado-personal\"],[\"lacteos\"],[\"lacteos\"],[\"belleza-y-cuidado-personal\"],[\"instantaneos-y-sopas\"],[\"congelados\"],[\"lacteos\"],[\"lacteos\"],[\"lacteos\"],[\"belleza-y-cuidado-personal\"],[\"lacteos\"],[\"lacteos\"],[\"lacteos\"],[\"comidas-preparadas\"],[\"belleza-y-cuidado-personal\"],[\"belleza-y-cuidado-personal\"],[\"lacteos\"],[\"(?)\"],[\"lacteos\"],[\"lacteos\"],[\"belleza-y-cuidado-personal\"],[\"verduras\"],[\"belleza-y-cuidado-personal\"],[\"belleza-y-cuidado-personal\"],[\"belleza-y-cuidado-personal\"],[\"belleza-y-cuidado-personal\"],[\"belleza-y-cuidado-personal\"],[\"belleza-y-cuidado-personal\"],[\"belleza-y-cuidado-personal\"],[\"congelados\"],[\"belleza-y-cuidado-personal\"],[\"(?)\"],[\"frutas\"],[\"congelados\"],[\"belleza-y-cuidado-personal\"],[\"belleza-y-cuidado-personal\"],[\"belleza-y-cuidado-personal\"],[\"instantaneos-y-sopas\"],[\"congelados\"],[\"belleza-y-cuidado-personal\"],[\"belleza-y-cuidado-personal\"],[\"belleza-y-cuidado-personal\"],[\"instantaneos-y-sopas\"],[\"lacteos\"],[\"belleza-y-cuidado-personal\"],[\"verduras\"],[\"congelados\"],[\"belleza-y-cuidado-personal\"],[\"lacteos\"],[\"(?)\"],[\"belleza-y-cuidado-personal\"],[\"belleza-y-cuidado-personal\"],[\"belleza-y-cuidado-personal\"],[\"lacteos\"],[\"lacteos\"],[\"belleza-y-cuidado-personal\"],[\"belleza-y-cuidado-personal\"],[\"lacteos\"],[\"lacteos\"],[\"instantaneos-y-sopas\"],[\"congelados\"],[\"lacteos\"],[\"congelados\"],[\"congelados\"],[\"congelados\"],[\"(?)\"],[\"belleza-y-cuidado-personal\"],[\"instantaneos-y-sopas\"],[\"lacteos\"],[\"lacteos\"],[\"lacteos\"],[\"lacteos\"],[\"belleza-y-cuidado-personal\"],[\"belleza-y-cuidado-personal\"],[\"belleza-y-cuidado-personal\"],[\"congelados\"],[\"congelados\"],[\"congelados\"],[\"lacteos\"],[\"lacteos\"],[\"belleza-y-cuidado-personal\"],[\"lacteos\"],[\"belleza-y-cuidado-personal\"],[\"belleza-y-cuidado-personal\"],[\"(?)\"],[\"lacteos\"],[\"belleza-y-cuidado-personal\"],[\"belleza-y-cuidado-personal\"],[\"belleza-y-cuidado-personal\"],[\"belleza-y-cuidado-personal\"],[\"lacteos\"],[\"lacteos\"],[\"comidas-preparadas\"],[\"congelados\"],[\"lacteos\"],[\"belleza-y-cuidado-personal\"],[\"belleza-y-cuidado-personal\"],[\"belleza-y-cuidado-personal\"],[\"belleza-y-cuidado-personal\"],[\"congelados\"],[\"congelados\"],[\"(?)\"],[\"(?)\"],[\"congelados\"],[\"lacteos\"],[\"congelados\"],[\"(?)\"],[\"lacteos\"],[\"congelados\"],[\"belleza-y-cuidado-personal\"],[\"belleza-y-cuidado-personal\"],[\"belleza-y-cuidado-personal\"],[\"lacteos\"],[\"lacteos\"],[\"belleza-y-cuidado-personal\"],[\"belleza-y-cuidado-personal\"],[\"frutas\"],[\"comidas-preparadas\"],[\"lacteos\"],[\"lacteos\"],[\"belleza-y-cuidado-personal\"],[\"congelados\"],[\"congelados\"],[\"congelados\"],[\"lacteos\"],[\"lacteos\"],[\"lacteos\"],[\"belleza-y-cuidado-personal\"],[\"congelados\"],[\"instantaneos-y-sopas\"],[\"belleza-y-cuidado-personal\"],[\"congelados\"],[\"belleza-y-cuidado-personal\"],[\"belleza-y-cuidado-personal\"],[\"congelados\"],[\"lacteos\"],[\"lacteos\"],[\"congelados\"]],\"domain\":{\"x\":[0.0,1.0],\"y\":[0.0,1.0]},\"hovertemplate\":\"labels=%{label}\\u003cbr\\u003eDesconto=%{value}\\u003cbr\\u003eparent=%{parent}\\u003cbr\\u003eid=%{id}\\u003cbr\\u003eCategoria=%{customdata[0]}\\u003cextra\\u003e\\u003c\\u002fextra\\u003e\",\"ids\":[\"Plenitud\\u002fbelleza-y-cuidado-personal\",\"Vanart\\u002fbelleza-y-cuidado-personal\",\"T\\u00edo Nacho\\u002fbelleza-y-cuidado-personal\",\"Trianon\\u002fbelleza-y-cuidado-personal\",\"Calo\\u002flacteos\",\"Chamyto\\u002flacteos\",\"Chiquit\\u00edn\\u002flacteos\",\"1+1 Soprole\\u002flacteos\",\"Sensodyne\\u002fbelleza-y-cuidado-personal\",\"Schick\\u002fbelleza-y-cuidado-personal\",\"Rexona Men Clinical\\u002fbelleza-y-cuidado-personal\",\"Rexona Men\\u002fbelleza-y-cuidado-personal\",\"Rexona Clinical\\u002fbelleza-y-cuidado-personal\",\"Rexona\\u002fbelleza-y-cuidado-personal\",\"Protex\\u002fbelleza-y-cuidado-personal\",\"Cintazul\\u002flacteos\",\"Cuisine & Co\\u002fcomidas-preparadas\",\"La Crianza\\u002fcomidas-preparadas\",\"PF\\u002fcomidas-preparadas\",\"Tivoni\\u002fcongelados\",\"Turkey Hill\\u002fcongelados\",\"Mega\\u002fcongelados\",\"Magnum\\u002fcongelados\",\"Alcafood\\u002finstantaneos-y-sopas\",\"Cuisine & Co\\u002finstantaneos-y-sopas\",\"Guallarauco\\u002fcongelados\",\"Frutos Del Maipo\\u002fcongelados\",\"Fiesta\\u002fcongelados\",\"Gourmet\\u002finstantaneos-y-sopas\",\"Bravissimo\\u002fcongelados\",\"Naturezza\\u002finstantaneos-y-sopas\",\"Santa Isabel\\u002fcomidas-preparadas\",\"Santa Isabel\\u002finstantaneos-y-sopas\",\"Traverso\\u002finstantaneos-y-sopas\",\"Super Pollo\\u002fcongelados\",\"Pantene\\u002fbelleza-y-cuidado-personal\",\"Sahne Nuss\\u002fcongelados\",\"Familand\\u002fbelleza-y-cuidado-personal\",\"Colgate\\u002fbelleza-y-cuidado-personal\",\"Carefree\\u002fbelleza-y-cuidado-personal\",\"Dento\\u002fbelleza-y-cuidado-personal\",\"Dove\\u002fbelleza-y-cuidado-personal\",\"Soprole\\u002flacteos\",\"Surlat\\u002flacteos\",\"BiO\\u002fbelleza-y-cuidado-personal\",\"Bellekiss\\u002fbelleza-y-cuidado-personal\",\"Regimel\\u002flacteos\",\"Garnier\\u002fbelleza-y-cuidado-personal\",\"Yogu - Yogu\\u002flacteos\",\"Not Milk\\u002flacteos\",\"Nestl\\u00e9\\u002flacteos\",\"Oikos\\u002flacteos\",\"Ilicit\\u002fbelleza-y-cuidado-personal\",\"Zerolacto\\u002flacteos\",\"Nesquik\\u002flacteos\",\"Linic\\u002fbelleza-y-cuidado-personal\",\"Listerine\\u002fbelleza-y-cuidado-personal\",\"M\\u00e1xima MP\\u002flacteos\",\"Cotidian\\u002fbelleza-y-cuidado-personal\",\"Lefersa\\u002flacteos\",\"Le Sancy\\u002fbelleza-y-cuidado-personal\",\"Base Culinar\\u002flacteos\",\"Carte Dor\\u002fcongelados\",\"Elite\\u002fbelleza-y-cuidado-personal\",\"Nivea\\u002fbelleza-y-cuidado-personal\",\"Copacabana\\u002flacteos\",\"Hoffmann\\u002finstantaneos-y-sopas\",\"Pamperita\\u002flacteos\",\"Svelty\\u002flacteos\",\"Frutas Y Verduras Propias\\u002ffrutas\",\"Zole\\u002fcongelados\",\"Viennetta Bresler\\u002fcongelados\",\"Agrosano\\u002fverduras\",\"Cuisine & Co\\u002flacteos\",\"Maggi\\u002finstantaneos-y-sopas\",\"Santa Isabel\\u002flacteos\",\"San Ignacio\\u002flacteos\",\"Deline\\u002flacteos\",\"Sahne Nuss\\u002flacteos\",\"Bonella\\u002flacteos\",\"Marco Polo\\u002flacteos\",\"Kumey\\u002flacteos\",\"Collico\\u002flacteos\",\"Colun\\u002flacteos\",\"Crucina\\u002flacteos\",\"Soprole Activ\\u002flacteos\",\"Not Chicken\\u002fcongelados\",\"Jumbo\\u002fverduras\",\"Tena\\u002fbelleza-y-cuidado-personal\",\"Elvive\\u002fbelleza-y-cuidado-personal\",\"Dural\\u00f3n\\u002fbelleza-y-cuidado-personal\",\"Corbac\\u002fcomidas-preparadas\",\"Giselle\\u002fbelleza-y-cuidado-personal\",\"Cuisine & Co\\u002fcongelados\",\"PF\\u002fcongelados\",\"Alimentos Shen\\u002fcongelados\",\"Ballerina\\u002fbelleza-y-cuidado-personal\",\"Sedal\\u002fbelleza-y-cuidado-personal\",\"Rik\\u00fc\\u002fcongelados\",\"Receta Del Abuelo\\u002fcongelados\",\"Nivea For Men\\u002fbelleza-y-cuidado-personal\",\"Speed Stick\\u002fbelleza-y-cuidado-personal\",\"Omega 3\\u002flacteos\",\"Simond'S\\u002fbelleza-y-cuidado-personal\",\"Bredenmaster\\u002fcomidas-preparadas\",\"Nosotras\\u002fbelleza-y-cuidado-personal\",\"Rana\\u002fcomidas-preparadas\",\"Gillette\\u002fbelleza-y-cuidado-personal\",\"Rock\\u002fcongelados\",\"Light & Free\\u002flacteos\",\"San Francisco De Loncomilla\\u002fcongelados\",\"Not Burger\\u002fcongelados\",\"Sure\\u00f1a\\u002flacteos\",\"Babyland\\u002fbelleza-y-cuidado-personal\",\"Quillayes\\u002flacteos\",\"Los Alerces\\u002flacteos\",\"Lady Speed Stick\\u002fbelleza-y-cuidado-personal\",\"Dole\\u002fverduras\",\"Kotex\\u002fbelleza-y-cuidado-personal\",\"Aquafresh\\u002fbelleza-y-cuidado-personal\",\"Herbal Essences\\u002fbelleza-y-cuidado-personal\",\"Herbal\\u002fbelleza-y-cuidado-personal\",\"Next\\u002flacteos\",\"Brooks\\u002fbelleza-y-cuidado-personal\",\"Nido\\u002flacteos\",\"Head & Shoulders\\u002fbelleza-y-cuidado-personal\",\"Cotosan\\u002fbelleza-y-cuidado-personal\",\"Dove Men\\u002fbelleza-y-cuidado-personal\",\"Signore Mario\\u002flacteos\",\"Shake A Shake Lonco Leche\\u002flacteos\",\"Santa Marta\\u002flacteos\",\"Family Care\\u002fbelleza-y-cuidado-personal\",\"Loncoleche\\u002flacteos\",\"Fructis\\u002fbelleza-y-cuidado-personal\",\"Qualy\\u002flacteos\",\"Old Spice\\u002fbelleza-y-cuidado-personal\",\"Naturella\\u002fbelleza-y-cuidado-personal\",\"Sadia\\u002fcongelados\",\"San Jorge\\u002fcongelados\",\"Savory\\u002fcongelados\",\"Super Beef\\u002fcongelados\",\"Super Cerdo\\u002fcongelados\",\"Not Ice Cream\\u002fcongelados\",\"Frutas Y Verduras Propias\\u002fverduras\",\"Mister Veggie\\u002fcongelados\",\"Minuto Verde\\u002fcongelados\",\"Frutas Y Verduras Santa Isabel\\u002ffrutas\",\"Sofruco\\u002ffrutas\",\"La Crianza\\u002fcongelados\",\"Ladysoft\\u002fbelleza-y-cuidado-personal\",\"Carozzi\\u002finstantaneos-y-sopas\",\"Bresler\\u002fcongelados\",\"M\\u00e1xima MP\\u002finstantaneos-y-sopas\",\"Sadia\\u002fcomidas-preparadas\",\"Activia\\u002flacteos\",\"Astra\\u002flacteos\",\"Calan\\u002flacteos\",\"Oral-B\\u002fbelleza-y-cuidado-personal\",\"Oral Fresh\\u002fbelleza-y-cuidado-personal\",\"Danone\\u002flacteos\",\"Ideal\\u002flacteos\",\"King\\u002fcongelados\",\"Always\\u002fbelleza-y-cuidado-personal\",\"Solo Italia\\u002fcomidas-preparadas\",\"Simonds\\u002fbelleza-y-cuidado-personal\",\"Pepsodent\\u002fbelleza-y-cuidado-personal\",\"Axe\\u002fbelleza-y-cuidado-personal\",\"1+1 Soprole\",\"Activia\",\"Agrosano\",\"Alcafood\",\"Alimentos Shen\",\"Always\",\"Aquafresh\",\"Astra\",\"Axe\",\"Babyland\",\"Ballerina\",\"Base Culinar\",\"Bellekiss\",\"BiO\",\"Bonella\",\"Bravissimo\",\"Bredenmaster\",\"Bresler\",\"Brooks\",\"Calan\",\"Calo\",\"Carefree\",\"Carozzi\",\"Carte Dor\",\"Chamyto\",\"Chiquit\\u00edn\",\"Cintazul\",\"Colgate\",\"Collico\",\"Colun\",\"Copacabana\",\"Corbac\",\"Cotidian\",\"Cotosan\",\"Crucina\",\"Cuisine & Co\",\"Danone\",\"Deline\",\"Dento\",\"Dole\",\"Dove\",\"Dove Men\",\"Dural\\u00f3n\",\"Elite\",\"Elvive\",\"Familand\",\"Family Care\",\"Fiesta\",\"Fructis\",\"Frutas Y Verduras Propias\",\"Frutas Y Verduras Santa Isabel\",\"Frutos Del Maipo\",\"Garnier\",\"Gillette\",\"Giselle\",\"Gourmet\",\"Guallarauco\",\"Head & Shoulders\",\"Herbal\",\"Herbal Essences\",\"Hoffmann\",\"Ideal\",\"Ilicit\",\"Jumbo\",\"King\",\"Kotex\",\"Kumey\",\"La Crianza\",\"Lady Speed Stick\",\"Ladysoft\",\"Le Sancy\",\"Lefersa\",\"Light & Free\",\"Linic\",\"Listerine\",\"Loncoleche\",\"Los Alerces\",\"Maggi\",\"Magnum\",\"Marco Polo\",\"Mega\",\"Minuto Verde\",\"Mister Veggie\",\"M\\u00e1xima MP\",\"Naturella\",\"Naturezza\",\"Nesquik\",\"Nestl\\u00e9\",\"Next\",\"Nido\",\"Nivea\",\"Nivea For Men\",\"Nosotras\",\"Not Burger\",\"Not Chicken\",\"Not Ice Cream\",\"Not Milk\",\"Oikos\",\"Old Spice\",\"Omega 3\",\"Oral Fresh\",\"Oral-B\",\"PF\",\"Pamperita\",\"Pantene\",\"Pepsodent\",\"Plenitud\",\"Protex\",\"Qualy\",\"Quillayes\",\"Rana\",\"Receta Del Abuelo\",\"Regimel\",\"Rexona\",\"Rexona Clinical\",\"Rexona Men\",\"Rexona Men Clinical\",\"Rik\\u00fc\",\"Rock\",\"Sadia\",\"Sahne Nuss\",\"San Francisco De Loncomilla\",\"San Ignacio\",\"San Jorge\",\"Santa Isabel\",\"Santa Marta\",\"Savory\",\"Schick\",\"Sedal\",\"Sensodyne\",\"Shake A Shake Lonco Leche\",\"Signore Mario\",\"Simond'S\",\"Simonds\",\"Sofruco\",\"Solo Italia\",\"Soprole\",\"Soprole Activ\",\"Speed Stick\",\"Super Beef\",\"Super Cerdo\",\"Super Pollo\",\"Sure\\u00f1a\",\"Surlat\",\"Svelty\",\"Tena\",\"Tivoni\",\"Traverso\",\"Trianon\",\"Turkey Hill\",\"T\\u00edo Nacho\",\"Vanart\",\"Viennetta Bresler\",\"Yogu - Yogu\",\"Zerolacto\",\"Zole\"],\"labels\":[\"belleza-y-cuidado-personal\",\"belleza-y-cuidado-personal\",\"belleza-y-cuidado-personal\",\"belleza-y-cuidado-personal\",\"lacteos\",\"lacteos\",\"lacteos\",\"lacteos\",\"belleza-y-cuidado-personal\",\"belleza-y-cuidado-personal\",\"belleza-y-cuidado-personal\",\"belleza-y-cuidado-personal\",\"belleza-y-cuidado-personal\",\"belleza-y-cuidado-personal\",\"belleza-y-cuidado-personal\",\"lacteos\",\"comidas-preparadas\",\"comidas-preparadas\",\"comidas-preparadas\",\"congelados\",\"congelados\",\"congelados\",\"congelados\",\"instantaneos-y-sopas\",\"instantaneos-y-sopas\",\"congelados\",\"congelados\",\"congelados\",\"instantaneos-y-sopas\",\"congelados\",\"instantaneos-y-sopas\",\"comidas-preparadas\",\"instantaneos-y-sopas\",\"instantaneos-y-sopas\",\"congelados\",\"belleza-y-cuidado-personal\",\"congelados\",\"belleza-y-cuidado-personal\",\"belleza-y-cuidado-personal\",\"belleza-y-cuidado-personal\",\"belleza-y-cuidado-personal\",\"belleza-y-cuidado-personal\",\"lacteos\",\"lacteos\",\"belleza-y-cuidado-personal\",\"belleza-y-cuidado-personal\",\"lacteos\",\"belleza-y-cuidado-personal\",\"lacteos\",\"lacteos\",\"lacteos\",\"lacteos\",\"belleza-y-cuidado-personal\",\"lacteos\",\"lacteos\",\"belleza-y-cuidado-personal\",\"belleza-y-cuidado-personal\",\"lacteos\",\"belleza-y-cuidado-personal\",\"lacteos\",\"belleza-y-cuidado-personal\",\"lacteos\",\"congelados\",\"belleza-y-cuidado-personal\",\"belleza-y-cuidado-personal\",\"lacteos\",\"instantaneos-y-sopas\",\"lacteos\",\"lacteos\",\"frutas\",\"congelados\",\"congelados\",\"verduras\",\"lacteos\",\"instantaneos-y-sopas\",\"lacteos\",\"lacteos\",\"lacteos\",\"lacteos\",\"lacteos\",\"lacteos\",\"lacteos\",\"lacteos\",\"lacteos\",\"lacteos\",\"lacteos\",\"congelados\",\"verduras\",\"belleza-y-cuidado-personal\",\"belleza-y-cuidado-personal\",\"belleza-y-cuidado-personal\",\"comidas-preparadas\",\"belleza-y-cuidado-personal\",\"congelados\",\"congelados\",\"congelados\",\"belleza-y-cuidado-personal\",\"belleza-y-cuidado-personal\",\"congelados\",\"congelados\",\"belleza-y-cuidado-personal\",\"belleza-y-cuidado-personal\",\"lacteos\",\"belleza-y-cuidado-personal\",\"comidas-preparadas\",\"belleza-y-cuidado-personal\",\"comidas-preparadas\",\"belleza-y-cuidado-personal\",\"congelados\",\"lacteos\",\"congelados\",\"congelados\",\"lacteos\",\"belleza-y-cuidado-personal\",\"lacteos\",\"lacteos\",\"belleza-y-cuidado-personal\",\"verduras\",\"belleza-y-cuidado-personal\",\"belleza-y-cuidado-personal\",\"belleza-y-cuidado-personal\",\"belleza-y-cuidado-personal\",\"lacteos\",\"belleza-y-cuidado-personal\",\"lacteos\",\"belleza-y-cuidado-personal\",\"belleza-y-cuidado-personal\",\"belleza-y-cuidado-personal\",\"lacteos\",\"lacteos\",\"lacteos\",\"belleza-y-cuidado-personal\",\"lacteos\",\"belleza-y-cuidado-personal\",\"lacteos\",\"belleza-y-cuidado-personal\",\"belleza-y-cuidado-personal\",\"congelados\",\"congelados\",\"congelados\",\"congelados\",\"congelados\",\"congelados\",\"verduras\",\"congelados\",\"congelados\",\"frutas\",\"frutas\",\"congelados\",\"belleza-y-cuidado-personal\",\"instantaneos-y-sopas\",\"congelados\",\"instantaneos-y-sopas\",\"comidas-preparadas\",\"lacteos\",\"lacteos\",\"lacteos\",\"belleza-y-cuidado-personal\",\"belleza-y-cuidado-personal\",\"lacteos\",\"lacteos\",\"congelados\",\"belleza-y-cuidado-personal\",\"comidas-preparadas\",\"belleza-y-cuidado-personal\",\"belleza-y-cuidado-personal\",\"belleza-y-cuidado-personal\",\"1+1 Soprole\",\"Activia\",\"Agrosano\",\"Alcafood\",\"Alimentos Shen\",\"Always\",\"Aquafresh\",\"Astra\",\"Axe\",\"Babyland\",\"Ballerina\",\"Base Culinar\",\"Bellekiss\",\"BiO\",\"Bonella\",\"Bravissimo\",\"Bredenmaster\",\"Bresler\",\"Brooks\",\"Calan\",\"Calo\",\"Carefree\",\"Carozzi\",\"Carte Dor\",\"Chamyto\",\"Chiquit\\u00edn\",\"Cintazul\",\"Colgate\",\"Collico\",\"Colun\",\"Copacabana\",\"Corbac\",\"Cotidian\",\"Cotosan\",\"Crucina\",\"Cuisine & Co\",\"Danone\",\"Deline\",\"Dento\",\"Dole\",\"Dove\",\"Dove Men\",\"Dural\\u00f3n\",\"Elite\",\"Elvive\",\"Familand\",\"Family Care\",\"Fiesta\",\"Fructis\",\"Frutas Y Verduras Propias\",\"Frutas Y Verduras Santa Isabel\",\"Frutos Del Maipo\",\"Garnier\",\"Gillette\",\"Giselle\",\"Gourmet\",\"Guallarauco\",\"Head & Shoulders\",\"Herbal\",\"Herbal Essences\",\"Hoffmann\",\"Ideal\",\"Ilicit\",\"Jumbo\",\"King\",\"Kotex\",\"Kumey\",\"La Crianza\",\"Lady Speed Stick\",\"Ladysoft\",\"Le Sancy\",\"Lefersa\",\"Light & Free\",\"Linic\",\"Listerine\",\"Loncoleche\",\"Los Alerces\",\"Maggi\",\"Magnum\",\"Marco Polo\",\"Mega\",\"Minuto Verde\",\"Mister Veggie\",\"M\\u00e1xima MP\",\"Naturella\",\"Naturezza\",\"Nesquik\",\"Nestl\\u00e9\",\"Next\",\"Nido\",\"Nivea\",\"Nivea For Men\",\"Nosotras\",\"Not Burger\",\"Not Chicken\",\"Not Ice Cream\",\"Not Milk\",\"Oikos\",\"Old Spice\",\"Omega 3\",\"Oral Fresh\",\"Oral-B\",\"PF\",\"Pamperita\",\"Pantene\",\"Pepsodent\",\"Plenitud\",\"Protex\",\"Qualy\",\"Quillayes\",\"Rana\",\"Receta Del Abuelo\",\"Regimel\",\"Rexona\",\"Rexona Clinical\",\"Rexona Men\",\"Rexona Men Clinical\",\"Rik\\u00fc\",\"Rock\",\"Sadia\",\"Sahne Nuss\",\"San Francisco De Loncomilla\",\"San Ignacio\",\"San Jorge\",\"Santa Isabel\",\"Santa Marta\",\"Savory\",\"Schick\",\"Sedal\",\"Sensodyne\",\"Shake A Shake Lonco Leche\",\"Signore Mario\",\"Simond'S\",\"Simonds\",\"Sofruco\",\"Solo Italia\",\"Soprole\",\"Soprole Activ\",\"Speed Stick\",\"Super Beef\",\"Super Cerdo\",\"Super Pollo\",\"Sure\\u00f1a\",\"Surlat\",\"Svelty\",\"Tena\",\"Tivoni\",\"Traverso\",\"Trianon\",\"Turkey Hill\",\"T\\u00edo Nacho\",\"Vanart\",\"Viennetta Bresler\",\"Yogu - Yogu\",\"Zerolacto\",\"Zole\"],\"marker\":{\"colors\":[\"#636efa\",\"#636efa\",\"#636efa\",\"#636efa\",\"#EF553B\",\"#EF553B\",\"#EF553B\",\"#EF553B\",\"#636efa\",\"#636efa\",\"#636efa\",\"#636efa\",\"#636efa\",\"#636efa\",\"#636efa\",\"#EF553B\",\"#00cc96\",\"#00cc96\",\"#00cc96\",\"#ab63fa\",\"#ab63fa\",\"#ab63fa\",\"#ab63fa\",\"#FFA15A\",\"#FFA15A\",\"#ab63fa\",\"#ab63fa\",\"#ab63fa\",\"#FFA15A\",\"#ab63fa\",\"#FFA15A\",\"#00cc96\",\"#FFA15A\",\"#FFA15A\",\"#ab63fa\",\"#636efa\",\"#ab63fa\",\"#636efa\",\"#636efa\",\"#636efa\",\"#636efa\",\"#636efa\",\"#EF553B\",\"#EF553B\",\"#636efa\",\"#636efa\",\"#EF553B\",\"#636efa\",\"#EF553B\",\"#EF553B\",\"#EF553B\",\"#EF553B\",\"#636efa\",\"#EF553B\",\"#EF553B\",\"#636efa\",\"#636efa\",\"#EF553B\",\"#636efa\",\"#EF553B\",\"#636efa\",\"#EF553B\",\"#ab63fa\",\"#636efa\",\"#636efa\",\"#EF553B\",\"#FFA15A\",\"#EF553B\",\"#EF553B\",\"#19d3f3\",\"#ab63fa\",\"#ab63fa\",\"#FF6692\",\"#EF553B\",\"#FFA15A\",\"#EF553B\",\"#EF553B\",\"#EF553B\",\"#EF553B\",\"#EF553B\",\"#EF553B\",\"#EF553B\",\"#EF553B\",\"#EF553B\",\"#EF553B\",\"#EF553B\",\"#ab63fa\",\"#FF6692\",\"#636efa\",\"#636efa\",\"#636efa\",\"#00cc96\",\"#636efa\",\"#ab63fa\",\"#ab63fa\",\"#ab63fa\",\"#636efa\",\"#636efa\",\"#ab63fa\",\"#ab63fa\",\"#636efa\",\"#636efa\",\"#EF553B\",\"#636efa\",\"#00cc96\",\"#636efa\",\"#00cc96\",\"#636efa\",\"#ab63fa\",\"#EF553B\",\"#ab63fa\",\"#ab63fa\",\"#EF553B\",\"#636efa\",\"#EF553B\",\"#EF553B\",\"#636efa\",\"#FF6692\",\"#636efa\",\"#636efa\",\"#636efa\",\"#636efa\",\"#EF553B\",\"#636efa\",\"#EF553B\",\"#636efa\",\"#636efa\",\"#636efa\",\"#EF553B\",\"#EF553B\",\"#EF553B\",\"#636efa\",\"#EF553B\",\"#636efa\",\"#EF553B\",\"#636efa\",\"#636efa\",\"#ab63fa\",\"#ab63fa\",\"#ab63fa\",\"#ab63fa\",\"#ab63fa\",\"#ab63fa\",\"#FF6692\",\"#ab63fa\",\"#ab63fa\",\"#19d3f3\",\"#19d3f3\",\"#ab63fa\",\"#636efa\",\"#FFA15A\",\"#ab63fa\",\"#FFA15A\",\"#00cc96\",\"#EF553B\",\"#EF553B\",\"#EF553B\",\"#636efa\",\"#636efa\",\"#EF553B\",\"#EF553B\",\"#ab63fa\",\"#636efa\",\"#00cc96\",\"#636efa\",\"#636efa\",\"#636efa\",\"#EF553B\",\"#EF553B\",\"#FF6692\",\"#FFA15A\",\"#ab63fa\",\"#636efa\",\"#636efa\",\"#EF553B\",\"#636efa\",\"#636efa\",\"#636efa\",\"#EF553B\",\"#636efa\",\"#636efa\",\"#EF553B\",\"#ab63fa\",\"#00cc96\",\"#ab63fa\",\"#636efa\",\"#EF553B\",\"#EF553B\",\"#636efa\",\"#FFA15A\",\"#ab63fa\",\"#EF553B\",\"#EF553B\",\"#EF553B\",\"#636efa\",\"#EF553B\",\"#EF553B\",\"#EF553B\",\"#00cc96\",\"#636efa\",\"#636efa\",\"#EF553B\",\"#B6E880\",\"#EF553B\",\"#EF553B\",\"#636efa\",\"#FF6692\",\"#636efa\",\"#636efa\",\"#636efa\",\"#636efa\",\"#636efa\",\"#636efa\",\"#636efa\",\"#ab63fa\",\"#636efa\",\"#B6E880\",\"#19d3f3\",\"#ab63fa\",\"#636efa\",\"#636efa\",\"#636efa\",\"#FFA15A\",\"#ab63fa\",\"#636efa\",\"#636efa\",\"#636efa\",\"#FFA15A\",\"#EF553B\",\"#636efa\",\"#FF6692\",\"#ab63fa\",\"#636efa\",\"#EF553B\",\"#B6E880\",\"#636efa\",\"#636efa\",\"#636efa\",\"#EF553B\",\"#EF553B\",\"#636efa\",\"#636efa\",\"#EF553B\",\"#EF553B\",\"#FFA15A\",\"#ab63fa\",\"#EF553B\",\"#ab63fa\",\"#ab63fa\",\"#ab63fa\",\"#B6E880\",\"#636efa\",\"#FFA15A\",\"#EF553B\",\"#EF553B\",\"#EF553B\",\"#EF553B\",\"#636efa\",\"#636efa\",\"#636efa\",\"#ab63fa\",\"#ab63fa\",\"#ab63fa\",\"#EF553B\",\"#EF553B\",\"#636efa\",\"#EF553B\",\"#636efa\",\"#636efa\",\"#B6E880\",\"#EF553B\",\"#636efa\",\"#636efa\",\"#636efa\",\"#636efa\",\"#EF553B\",\"#EF553B\",\"#00cc96\",\"#ab63fa\",\"#EF553B\",\"#636efa\",\"#636efa\",\"#636efa\",\"#636efa\",\"#ab63fa\",\"#ab63fa\",\"#B6E880\",\"#B6E880\",\"#ab63fa\",\"#EF553B\",\"#ab63fa\",\"#B6E880\",\"#EF553B\",\"#ab63fa\",\"#636efa\",\"#636efa\",\"#636efa\",\"#EF553B\",\"#EF553B\",\"#636efa\",\"#636efa\",\"#19d3f3\",\"#00cc96\",\"#EF553B\",\"#EF553B\",\"#636efa\",\"#ab63fa\",\"#ab63fa\",\"#ab63fa\",\"#EF553B\",\"#EF553B\",\"#EF553B\",\"#636efa\",\"#ab63fa\",\"#FFA15A\",\"#636efa\",\"#ab63fa\",\"#636efa\",\"#636efa\",\"#ab63fa\",\"#EF553B\",\"#EF553B\",\"#ab63fa\"]},\"name\":\"\",\"parents\":[\"Plenitud\",\"Vanart\",\"T\\u00edo Nacho\",\"Trianon\",\"Calo\",\"Chamyto\",\"Chiquit\\u00edn\",\"1+1 Soprole\",\"Sensodyne\",\"Schick\",\"Rexona Men Clinical\",\"Rexona Men\",\"Rexona Clinical\",\"Rexona\",\"Protex\",\"Cintazul\",\"Cuisine & Co\",\"La Crianza\",\"PF\",\"Tivoni\",\"Turkey Hill\",\"Mega\",\"Magnum\",\"Alcafood\",\"Cuisine & Co\",\"Guallarauco\",\"Frutos Del Maipo\",\"Fiesta\",\"Gourmet\",\"Bravissimo\",\"Naturezza\",\"Santa Isabel\",\"Santa Isabel\",\"Traverso\",\"Super Pollo\",\"Pantene\",\"Sahne Nuss\",\"Familand\",\"Colgate\",\"Carefree\",\"Dento\",\"Dove\",\"Soprole\",\"Surlat\",\"BiO\",\"Bellekiss\",\"Regimel\",\"Garnier\",\"Yogu - Yogu\",\"Not Milk\",\"Nestl\\u00e9\",\"Oikos\",\"Ilicit\",\"Zerolacto\",\"Nesquik\",\"Linic\",\"Listerine\",\"M\\u00e1xima MP\",\"Cotidian\",\"Lefersa\",\"Le Sancy\",\"Base Culinar\",\"Carte Dor\",\"Elite\",\"Nivea\",\"Copacabana\",\"Hoffmann\",\"Pamperita\",\"Svelty\",\"Frutas Y Verduras Propias\",\"Zole\",\"Viennetta Bresler\",\"Agrosano\",\"Cuisine & Co\",\"Maggi\",\"Santa Isabel\",\"San Ignacio\",\"Deline\",\"Sahne Nuss\",\"Bonella\",\"Marco Polo\",\"Kumey\",\"Collico\",\"Colun\",\"Crucina\",\"Soprole Activ\",\"Not Chicken\",\"Jumbo\",\"Tena\",\"Elvive\",\"Dural\\u00f3n\",\"Corbac\",\"Giselle\",\"Cuisine & Co\",\"PF\",\"Alimentos Shen\",\"Ballerina\",\"Sedal\",\"Rik\\u00fc\",\"Receta Del Abuelo\",\"Nivea For Men\",\"Speed Stick\",\"Omega 3\",\"Simond'S\",\"Bredenmaster\",\"Nosotras\",\"Rana\",\"Gillette\",\"Rock\",\"Light & Free\",\"San Francisco De Loncomilla\",\"Not Burger\",\"Sure\\u00f1a\",\"Babyland\",\"Quillayes\",\"Los Alerces\",\"Lady Speed Stick\",\"Dole\",\"Kotex\",\"Aquafresh\",\"Herbal Essences\",\"Herbal\",\"Next\",\"Brooks\",\"Nido\",\"Head & Shoulders\",\"Cotosan\",\"Dove Men\",\"Signore Mario\",\"Shake A Shake Lonco Leche\",\"Santa Marta\",\"Family Care\",\"Loncoleche\",\"Fructis\",\"Qualy\",\"Old Spice\",\"Naturella\",\"Sadia\",\"San Jorge\",\"Savory\",\"Super Beef\",\"Super Cerdo\",\"Not Ice Cream\",\"Frutas Y Verduras Propias\",\"Mister Veggie\",\"Minuto Verde\",\"Frutas Y Verduras Santa Isabel\",\"Sofruco\",\"La Crianza\",\"Ladysoft\",\"Carozzi\",\"Bresler\",\"M\\u00e1xima MP\",\"Sadia\",\"Activia\",\"Astra\",\"Calan\",\"Oral-B\",\"Oral Fresh\",\"Danone\",\"Ideal\",\"King\",\"Always\",\"Solo Italia\",\"Simonds\",\"Pepsodent\",\"Axe\",\"\",\"\",\"\",\"\",\"\",\"\",\"\",\"\",\"\",\"\",\"\",\"\",\"\",\"\",\"\",\"\",\"\",\"\",\"\",\"\",\"\",\"\",\"\",\"\",\"\",\"\",\"\",\"\",\"\",\"\",\"\",\"\",\"\",\"\",\"\",\"\",\"\",\"\",\"\",\"\",\"\",\"\",\"\",\"\",\"\",\"\",\"\",\"\",\"\",\"\",\"\",\"\",\"\",\"\",\"\",\"\",\"\",\"\",\"\",\"\",\"\",\"\",\"\",\"\",\"\",\"\",\"\",\"\",\"\",\"\",\"\",\"\",\"\",\"\",\"\",\"\",\"\",\"\",\"\",\"\",\"\",\"\",\"\",\"\",\"\",\"\",\"\",\"\",\"\",\"\",\"\",\"\",\"\",\"\",\"\",\"\",\"\",\"\",\"\",\"\",\"\",\"\",\"\",\"\",\"\",\"\",\"\",\"\",\"\",\"\",\"\",\"\",\"\",\"\",\"\",\"\",\"\",\"\",\"\",\"\",\"\",\"\",\"\",\"\",\"\",\"\",\"\",\"\",\"\",\"\",\"\",\"\",\"\",\"\",\"\",\"\",\"\",\"\",\"\",\"\",\"\",\"\",\"\",\"\",\"\",\"\",\"\",\"\",\"\",\"\",\"\",\"\",\"\",\"\",\"\",\"\"],\"values\":[0.0,0.0,0.0,0.0,0.0,0.0,0.0,0.0,0.0,0.0,795.0,660.0,795.0,660.0,304.5,0.0,0.0,0.0,200.0,0.0,0.0,657.0,955.0,0.0,0.0,0.0,136.26666666666668,0.0,0.0,0.0,0.0,0.0,0.0,0.0,0.0,684.8571428571429,164.25,0.0,117.0952380952381,0.0,0.0,429.8666666666667,10.852941176470589,0.0,650.0,0.0,0.0,0.0,0.0,160.0,1.7674418604651163,0.0,0.0,0.0,0.0,0.0,0.0,0.0,0.0,0.0,0.0,0.0,357.5,0.0,0.0,0.0,0.0,0.0,0.0,0.0,0.0,546.0,0.0,16.318181818181817,0.0,0.0,0.0,0.0,0.0,0.0,0.0,0.0,0.0,4.471264367816092,0.0,0.0,0.0,0.0,0.0,0.0,0.0,0.0,0.0,148.34285714285716,0.0,0.0,34.083333333333336,0.0,0.0,0.0,0.0,0.0,0.0,0.0,0.0,103.45454545454545,0.0,0.0,0.0,0.0,0.0,210.0,261.0,0.0,0.0,0.0,0.0,0.0,55.166666666666664,444.6666666666667,0.0,0.0,0.0,0.0,869.8,0.0,0.0,252.25,0.0,0.0,149.5,0.0,0.0,0.0,0.0,0.0,0.0,0.0,70.0,456.15625,120.0,0.0,0.0,0.0,0.0,19.5,0.0,0.0,0.0,94.83333333333333,0.0,429.7857142857143,0.0,0.0,0.0,0.0,0.0,88.55555555555556,797.0,0.0,0.0,0.0,123.75,0.0,300.0,344.3333333333333,590.0,0.0,0.0,0.0,0.0,0.0,123.75,444.6666666666667,0.0,590.0,0.0,34.083333333333336,0.0,0.0,650.0,0.0,0.0,0.0,429.7857142857143,0.0,0.0,0.0,0.0,0.0,357.5,0.0,0.0,0.0,117.0952380952381,0.0,4.471264367816092,0.0,0.0,0.0,0.0,0.0,164.66103896103897,0.0,0.0,0.0,0.0,429.8666666666667,252.25,0.0,0.0,0.0,0.0,0.0,0.0,0.0,0.0,0.0,136.26666666666668,0.0,0.0,0.0,0.0,0.0,0.0,0.0,0.0,0.0,0.0,0.0,0.0,0.0,55.166666666666664,0.0,0.0,0.0,94.83333333333333,0.0,0.0,0.0,0.0,0.0,0.0,0.0,0.0,955.0,0.0,657.0,19.5,0.0,0.0,0.0,0.0,0.0,1.7674418604651163,0.0,869.8,0.0,0.0,103.45454545454545,210.0,0.0,0.0,160.0,0.0,0.0,0.0,797.0,88.55555555555556,200.0,0.0,684.8571428571429,344.3333333333333,0.0,304.5,0.0,0.0,0.0,0.0,0.0,660.0,795.0,660.0,795.0,0.0,0.0,0.0,164.25,0.0,0.0,70.0,0.0,149.5,456.15625,0.0,0.0,0.0,0.0,0.0,0.0,300.0,0.0,0.0,10.852941176470589,0.0,0.0,120.0,0.0,0.0,261.0,0.0,0.0,0.0,0.0,0.0,0.0,0.0,0.0,0.0,546.0,0.0,0.0,0.0],\"type\":\"treemap\"}],                        {\"template\":{\"data\":{\"histogram2dcontour\":[{\"type\":\"histogram2dcontour\",\"colorbar\":{\"outlinewidth\":0,\"ticks\":\"\"},\"colorscale\":[[0.0,\"#0d0887\"],[0.1111111111111111,\"#46039f\"],[0.2222222222222222,\"#7201a8\"],[0.3333333333333333,\"#9c179e\"],[0.4444444444444444,\"#bd3786\"],[0.5555555555555556,\"#d8576b\"],[0.6666666666666666,\"#ed7953\"],[0.7777777777777778,\"#fb9f3a\"],[0.8888888888888888,\"#fdca26\"],[1.0,\"#f0f921\"]]}],\"choropleth\":[{\"type\":\"choropleth\",\"colorbar\":{\"outlinewidth\":0,\"ticks\":\"\"}}],\"histogram2d\":[{\"type\":\"histogram2d\",\"colorbar\":{\"outlinewidth\":0,\"ticks\":\"\"},\"colorscale\":[[0.0,\"#0d0887\"],[0.1111111111111111,\"#46039f\"],[0.2222222222222222,\"#7201a8\"],[0.3333333333333333,\"#9c179e\"],[0.4444444444444444,\"#bd3786\"],[0.5555555555555556,\"#d8576b\"],[0.6666666666666666,\"#ed7953\"],[0.7777777777777778,\"#fb9f3a\"],[0.8888888888888888,\"#fdca26\"],[1.0,\"#f0f921\"]]}],\"heatmap\":[{\"type\":\"heatmap\",\"colorbar\":{\"outlinewidth\":0,\"ticks\":\"\"},\"colorscale\":[[0.0,\"#0d0887\"],[0.1111111111111111,\"#46039f\"],[0.2222222222222222,\"#7201a8\"],[0.3333333333333333,\"#9c179e\"],[0.4444444444444444,\"#bd3786\"],[0.5555555555555556,\"#d8576b\"],[0.6666666666666666,\"#ed7953\"],[0.7777777777777778,\"#fb9f3a\"],[0.8888888888888888,\"#fdca26\"],[1.0,\"#f0f921\"]]}],\"heatmapgl\":[{\"type\":\"heatmapgl\",\"colorbar\":{\"outlinewidth\":0,\"ticks\":\"\"},\"colorscale\":[[0.0,\"#0d0887\"],[0.1111111111111111,\"#46039f\"],[0.2222222222222222,\"#7201a8\"],[0.3333333333333333,\"#9c179e\"],[0.4444444444444444,\"#bd3786\"],[0.5555555555555556,\"#d8576b\"],[0.6666666666666666,\"#ed7953\"],[0.7777777777777778,\"#fb9f3a\"],[0.8888888888888888,\"#fdca26\"],[1.0,\"#f0f921\"]]}],\"contourcarpet\":[{\"type\":\"contourcarpet\",\"colorbar\":{\"outlinewidth\":0,\"ticks\":\"\"}}],\"contour\":[{\"type\":\"contour\",\"colorbar\":{\"outlinewidth\":0,\"ticks\":\"\"},\"colorscale\":[[0.0,\"#0d0887\"],[0.1111111111111111,\"#46039f\"],[0.2222222222222222,\"#7201a8\"],[0.3333333333333333,\"#9c179e\"],[0.4444444444444444,\"#bd3786\"],[0.5555555555555556,\"#d8576b\"],[0.6666666666666666,\"#ed7953\"],[0.7777777777777778,\"#fb9f3a\"],[0.8888888888888888,\"#fdca26\"],[1.0,\"#f0f921\"]]}],\"surface\":[{\"type\":\"surface\",\"colorbar\":{\"outlinewidth\":0,\"ticks\":\"\"},\"colorscale\":[[0.0,\"#0d0887\"],[0.1111111111111111,\"#46039f\"],[0.2222222222222222,\"#7201a8\"],[0.3333333333333333,\"#9c179e\"],[0.4444444444444444,\"#bd3786\"],[0.5555555555555556,\"#d8576b\"],[0.6666666666666666,\"#ed7953\"],[0.7777777777777778,\"#fb9f3a\"],[0.8888888888888888,\"#fdca26\"],[1.0,\"#f0f921\"]]}],\"mesh3d\":[{\"type\":\"mesh3d\",\"colorbar\":{\"outlinewidth\":0,\"ticks\":\"\"}}],\"scatter\":[{\"fillpattern\":{\"fillmode\":\"overlay\",\"size\":10,\"solidity\":0.2},\"type\":\"scatter\"}],\"parcoords\":[{\"type\":\"parcoords\",\"line\":{\"colorbar\":{\"outlinewidth\":0,\"ticks\":\"\"}}}],\"scatterpolargl\":[{\"type\":\"scatterpolargl\",\"marker\":{\"colorbar\":{\"outlinewidth\":0,\"ticks\":\"\"}}}],\"bar\":[{\"error_x\":{\"color\":\"#2a3f5f\"},\"error_y\":{\"color\":\"#2a3f5f\"},\"marker\":{\"line\":{\"color\":\"#E5ECF6\",\"width\":0.5},\"pattern\":{\"fillmode\":\"overlay\",\"size\":10,\"solidity\":0.2}},\"type\":\"bar\"}],\"scattergeo\":[{\"type\":\"scattergeo\",\"marker\":{\"colorbar\":{\"outlinewidth\":0,\"ticks\":\"\"}}}],\"scatterpolar\":[{\"type\":\"scatterpolar\",\"marker\":{\"colorbar\":{\"outlinewidth\":0,\"ticks\":\"\"}}}],\"histogram\":[{\"marker\":{\"pattern\":{\"fillmode\":\"overlay\",\"size\":10,\"solidity\":0.2}},\"type\":\"histogram\"}],\"scattergl\":[{\"type\":\"scattergl\",\"marker\":{\"colorbar\":{\"outlinewidth\":0,\"ticks\":\"\"}}}],\"scatter3d\":[{\"type\":\"scatter3d\",\"line\":{\"colorbar\":{\"outlinewidth\":0,\"ticks\":\"\"}},\"marker\":{\"colorbar\":{\"outlinewidth\":0,\"ticks\":\"\"}}}],\"scattermapbox\":[{\"type\":\"scattermapbox\",\"marker\":{\"colorbar\":{\"outlinewidth\":0,\"ticks\":\"\"}}}],\"scatterternary\":[{\"type\":\"scatterternary\",\"marker\":{\"colorbar\":{\"outlinewidth\":0,\"ticks\":\"\"}}}],\"scattercarpet\":[{\"type\":\"scattercarpet\",\"marker\":{\"colorbar\":{\"outlinewidth\":0,\"ticks\":\"\"}}}],\"carpet\":[{\"aaxis\":{\"endlinecolor\":\"#2a3f5f\",\"gridcolor\":\"white\",\"linecolor\":\"white\",\"minorgridcolor\":\"white\",\"startlinecolor\":\"#2a3f5f\"},\"baxis\":{\"endlinecolor\":\"#2a3f5f\",\"gridcolor\":\"white\",\"linecolor\":\"white\",\"minorgridcolor\":\"white\",\"startlinecolor\":\"#2a3f5f\"},\"type\":\"carpet\"}],\"table\":[{\"cells\":{\"fill\":{\"color\":\"#EBF0F8\"},\"line\":{\"color\":\"white\"}},\"header\":{\"fill\":{\"color\":\"#C8D4E3\"},\"line\":{\"color\":\"white\"}},\"type\":\"table\"}],\"barpolar\":[{\"marker\":{\"line\":{\"color\":\"#E5ECF6\",\"width\":0.5},\"pattern\":{\"fillmode\":\"overlay\",\"size\":10,\"solidity\":0.2}},\"type\":\"barpolar\"}],\"pie\":[{\"automargin\":true,\"type\":\"pie\"}]},\"layout\":{\"autotypenumbers\":\"strict\",\"colorway\":[\"#636efa\",\"#EF553B\",\"#00cc96\",\"#ab63fa\",\"#FFA15A\",\"#19d3f3\",\"#FF6692\",\"#B6E880\",\"#FF97FF\",\"#FECB52\"],\"font\":{\"color\":\"#2a3f5f\"},\"hovermode\":\"closest\",\"hoverlabel\":{\"align\":\"left\"},\"paper_bgcolor\":\"white\",\"plot_bgcolor\":\"#E5ECF6\",\"polar\":{\"bgcolor\":\"#E5ECF6\",\"angularaxis\":{\"gridcolor\":\"white\",\"linecolor\":\"white\",\"ticks\":\"\"},\"radialaxis\":{\"gridcolor\":\"white\",\"linecolor\":\"white\",\"ticks\":\"\"}},\"ternary\":{\"bgcolor\":\"#E5ECF6\",\"aaxis\":{\"gridcolor\":\"white\",\"linecolor\":\"white\",\"ticks\":\"\"},\"baxis\":{\"gridcolor\":\"white\",\"linecolor\":\"white\",\"ticks\":\"\"},\"caxis\":{\"gridcolor\":\"white\",\"linecolor\":\"white\",\"ticks\":\"\"}},\"coloraxis\":{\"colorbar\":{\"outlinewidth\":0,\"ticks\":\"\"}},\"colorscale\":{\"sequential\":[[0.0,\"#0d0887\"],[0.1111111111111111,\"#46039f\"],[0.2222222222222222,\"#7201a8\"],[0.3333333333333333,\"#9c179e\"],[0.4444444444444444,\"#bd3786\"],[0.5555555555555556,\"#d8576b\"],[0.6666666666666666,\"#ed7953\"],[0.7777777777777778,\"#fb9f3a\"],[0.8888888888888888,\"#fdca26\"],[1.0,\"#f0f921\"]],\"sequentialminus\":[[0.0,\"#0d0887\"],[0.1111111111111111,\"#46039f\"],[0.2222222222222222,\"#7201a8\"],[0.3333333333333333,\"#9c179e\"],[0.4444444444444444,\"#bd3786\"],[0.5555555555555556,\"#d8576b\"],[0.6666666666666666,\"#ed7953\"],[0.7777777777777778,\"#fb9f3a\"],[0.8888888888888888,\"#fdca26\"],[1.0,\"#f0f921\"]],\"diverging\":[[0,\"#8e0152\"],[0.1,\"#c51b7d\"],[0.2,\"#de77ae\"],[0.3,\"#f1b6da\"],[0.4,\"#fde0ef\"],[0.5,\"#f7f7f7\"],[0.6,\"#e6f5d0\"],[0.7,\"#b8e186\"],[0.8,\"#7fbc41\"],[0.9,\"#4d9221\"],[1,\"#276419\"]]},\"xaxis\":{\"gridcolor\":\"white\",\"linecolor\":\"white\",\"ticks\":\"\",\"title\":{\"standoff\":15},\"zerolinecolor\":\"white\",\"automargin\":true,\"zerolinewidth\":2},\"yaxis\":{\"gridcolor\":\"white\",\"linecolor\":\"white\",\"ticks\":\"\",\"title\":{\"standoff\":15},\"zerolinecolor\":\"white\",\"automargin\":true,\"zerolinewidth\":2},\"scene\":{\"xaxis\":{\"backgroundcolor\":\"#E5ECF6\",\"gridcolor\":\"white\",\"linecolor\":\"white\",\"showbackground\":true,\"ticks\":\"\",\"zerolinecolor\":\"white\",\"gridwidth\":2},\"yaxis\":{\"backgroundcolor\":\"#E5ECF6\",\"gridcolor\":\"white\",\"linecolor\":\"white\",\"showbackground\":true,\"ticks\":\"\",\"zerolinecolor\":\"white\",\"gridwidth\":2},\"zaxis\":{\"backgroundcolor\":\"#E5ECF6\",\"gridcolor\":\"white\",\"linecolor\":\"white\",\"showbackground\":true,\"ticks\":\"\",\"zerolinecolor\":\"white\",\"gridwidth\":2}},\"shapedefaults\":{\"line\":{\"color\":\"#2a3f5f\"}},\"annotationdefaults\":{\"arrowcolor\":\"#2a3f5f\",\"arrowhead\":0,\"arrowwidth\":1},\"geo\":{\"bgcolor\":\"white\",\"landcolor\":\"#E5ECF6\",\"subunitcolor\":\"white\",\"showland\":true,\"showlakes\":true,\"lakecolor\":\"white\"},\"title\":{\"x\":0.05},\"mapbox\":{\"style\":\"light\"}}},\"legend\":{\"tracegroupgap\":0},\"title\":{\"text\":\"Desconto por Marca e Categoria\"}},                        {\"responsive\": true}                    ).then(function(){\n",
       "                            \n",
       "var gd = document.getElementById('fd56ce8a-9cd5-4a27-b9a9-7e6c0082db58');\n",
       "var x = new MutationObserver(function (mutations, observer) {{\n",
       "        var display = window.getComputedStyle(gd).display;\n",
       "        if (!display || display === 'none') {{\n",
       "            console.log([gd, 'removed!']);\n",
       "            Plotly.purge(gd);\n",
       "            observer.disconnect();\n",
       "        }}\n",
       "}});\n",
       "\n",
       "// Listen for the removal of the full notebook cells\n",
       "var notebookContainer = gd.closest('#notebook-container');\n",
       "if (notebookContainer) {{\n",
       "    x.observe(notebookContainer, {childList: true});\n",
       "}}\n",
       "\n",
       "// Listen for the clearing of the current output cell\n",
       "var outputEl = gd.closest('.output');\n",
       "if (outputEl) {{\n",
       "    x.observe(outputEl, {childList: true});\n",
       "}}\n",
       "\n",
       "                        })                };                });            </script>        </div>"
      ]
     },
     "metadata": {},
     "output_type": "display_data"
    }
   ],
   "source": [
    "desconto_por_marca_categoria = df.groupby(['Marca', 'Categoria'])['Desconto'].mean().reset_index()\n",
    "\n",
    "fig = px.treemap(desconto_por_marca_categoria,\n",
    "                 path=['Marca', 'Categoria'],\n",
    "                 values='Desconto',\n",
    "                 title='Desconto por Marca e Categoria',\n",
    "                 color='Categoria')\n",
    "\n",
    "fig.show()"
   ]
  },
  {
   "cell_type": "code",
   "execution_count": 37,
   "metadata": {},
   "outputs": [
    {
     "data": {
      "application/vnd.plotly.v1+json": {
       "config": {
        "plotlyServerURL": "https://plot.ly"
       },
       "data": [
        {
         "branchvalues": "total",
         "customdata": [
          [
           "belleza-y-cuidado-personal"
          ],
          [
           "belleza-y-cuidado-personal"
          ],
          [
           "belleza-y-cuidado-personal"
          ],
          [
           "belleza-y-cuidado-personal"
          ],
          [
           "congelados"
          ],
          [
           "congelados"
          ],
          [
           "lacteos"
          ],
          [
           "belleza-y-cuidado-personal"
          ],
          [
           "belleza-y-cuidado-personal"
          ],
          [
           "belleza-y-cuidado-personal"
          ],
          [
           "belleza-y-cuidado-personal"
          ],
          [
           "congelados"
          ],
          [
           "congelados"
          ],
          [
           "lacteos"
          ],
          [
           "belleza-y-cuidado-personal"
          ],
          [
           "belleza-y-cuidado-personal"
          ],
          [
           "belleza-y-cuidado-personal"
          ],
          [
           "belleza-y-cuidado-personal"
          ],
          [
           "belleza-y-cuidado-personal"
          ],
          [
           "belleza-y-cuidado-personal"
          ]
         ],
         "domain": {
          "x": [
           0,
           1
          ],
          "y": [
           0,
           1
          ]
         },
         "hovertemplate": "labels=%{label}<br>Desconto=%{value}<br>parent=%{parent}<br>id=%{id}<br>Categoria=%{customdata[0]}<extra></extra>",
         "ids": [
          "BiO/belleza-y-cuidado-personal",
          "Rexona Clinical/belleza-y-cuidado-personal",
          "Rexona Men/belleza-y-cuidado-personal",
          "Rexona Men Clinical/belleza-y-cuidado-personal",
          "Magnum/congelados",
          "Mega/congelados",
          "Nido/lacteos",
          "Oral Fresh/belleza-y-cuidado-personal",
          "Pantene/belleza-y-cuidado-personal",
          "Rexona/belleza-y-cuidado-personal",
          "BiO",
          "Magnum",
          "Mega",
          "Nido",
          "Oral Fresh",
          "Pantene",
          "Rexona",
          "Rexona Clinical",
          "Rexona Men",
          "Rexona Men Clinical"
         ],
         "labels": [
          "belleza-y-cuidado-personal",
          "belleza-y-cuidado-personal",
          "belleza-y-cuidado-personal",
          "belleza-y-cuidado-personal",
          "congelados",
          "congelados",
          "lacteos",
          "belleza-y-cuidado-personal",
          "belleza-y-cuidado-personal",
          "belleza-y-cuidado-personal",
          "BiO",
          "Magnum",
          "Mega",
          "Nido",
          "Oral Fresh",
          "Pantene",
          "Rexona",
          "Rexona Clinical",
          "Rexona Men",
          "Rexona Men Clinical"
         ],
         "marker": {
          "colors": [
           "#636efa",
           "#636efa",
           "#636efa",
           "#636efa",
           "#EF553B",
           "#EF553B",
           "#00cc96",
           "#636efa",
           "#636efa",
           "#636efa",
           "#636efa",
           "#EF553B",
           "#EF553B",
           "#00cc96",
           "#636efa",
           "#636efa",
           "#636efa",
           "#636efa",
           "#636efa",
           "#636efa"
          ]
         },
         "name": "",
         "parents": [
          "BiO",
          "Rexona Clinical",
          "Rexona Men",
          "Rexona Men Clinical",
          "Magnum",
          "Mega",
          "Nido",
          "Oral Fresh",
          "Pantene",
          "Rexona",
          "",
          "",
          "",
          "",
          "",
          "",
          "",
          "",
          "",
          ""
         ],
         "type": "treemap",
         "values": [
          650,
          795,
          660,
          795,
          955,
          657,
          869.8,
          797,
          684.8571428571429,
          660,
          650,
          955,
          657,
          869.8,
          797,
          684.8571428571429,
          660,
          795,
          660,
          795
         ]
        }
       ],
       "layout": {
        "autosize": true,
        "legend": {
         "tracegroupgap": 0
        },
        "template": {
         "data": {
          "bar": [
           {
            "error_x": {
             "color": "#2a3f5f"
            },
            "error_y": {
             "color": "#2a3f5f"
            },
            "marker": {
             "line": {
              "color": "#E5ECF6",
              "width": 0.5
             },
             "pattern": {
              "fillmode": "overlay",
              "size": 10,
              "solidity": 0.2
             }
            },
            "type": "bar"
           }
          ],
          "barpolar": [
           {
            "marker": {
             "line": {
              "color": "#E5ECF6",
              "width": 0.5
             },
             "pattern": {
              "fillmode": "overlay",
              "size": 10,
              "solidity": 0.2
             }
            },
            "type": "barpolar"
           }
          ],
          "carpet": [
           {
            "aaxis": {
             "endlinecolor": "#2a3f5f",
             "gridcolor": "white",
             "linecolor": "white",
             "minorgridcolor": "white",
             "startlinecolor": "#2a3f5f"
            },
            "baxis": {
             "endlinecolor": "#2a3f5f",
             "gridcolor": "white",
             "linecolor": "white",
             "minorgridcolor": "white",
             "startlinecolor": "#2a3f5f"
            },
            "type": "carpet"
           }
          ],
          "choropleth": [
           {
            "colorbar": {
             "outlinewidth": 0,
             "ticks": ""
            },
            "type": "choropleth"
           }
          ],
          "contour": [
           {
            "colorbar": {
             "outlinewidth": 0,
             "ticks": ""
            },
            "colorscale": [
             [
              0,
              "#0d0887"
             ],
             [
              0.1111111111111111,
              "#46039f"
             ],
             [
              0.2222222222222222,
              "#7201a8"
             ],
             [
              0.3333333333333333,
              "#9c179e"
             ],
             [
              0.4444444444444444,
              "#bd3786"
             ],
             [
              0.5555555555555556,
              "#d8576b"
             ],
             [
              0.6666666666666666,
              "#ed7953"
             ],
             [
              0.7777777777777778,
              "#fb9f3a"
             ],
             [
              0.8888888888888888,
              "#fdca26"
             ],
             [
              1,
              "#f0f921"
             ]
            ],
            "type": "contour"
           }
          ],
          "contourcarpet": [
           {
            "colorbar": {
             "outlinewidth": 0,
             "ticks": ""
            },
            "type": "contourcarpet"
           }
          ],
          "heatmap": [
           {
            "colorbar": {
             "outlinewidth": 0,
             "ticks": ""
            },
            "colorscale": [
             [
              0,
              "#0d0887"
             ],
             [
              0.1111111111111111,
              "#46039f"
             ],
             [
              0.2222222222222222,
              "#7201a8"
             ],
             [
              0.3333333333333333,
              "#9c179e"
             ],
             [
              0.4444444444444444,
              "#bd3786"
             ],
             [
              0.5555555555555556,
              "#d8576b"
             ],
             [
              0.6666666666666666,
              "#ed7953"
             ],
             [
              0.7777777777777778,
              "#fb9f3a"
             ],
             [
              0.8888888888888888,
              "#fdca26"
             ],
             [
              1,
              "#f0f921"
             ]
            ],
            "type": "heatmap"
           }
          ],
          "heatmapgl": [
           {
            "colorbar": {
             "outlinewidth": 0,
             "ticks": ""
            },
            "colorscale": [
             [
              0,
              "#0d0887"
             ],
             [
              0.1111111111111111,
              "#46039f"
             ],
             [
              0.2222222222222222,
              "#7201a8"
             ],
             [
              0.3333333333333333,
              "#9c179e"
             ],
             [
              0.4444444444444444,
              "#bd3786"
             ],
             [
              0.5555555555555556,
              "#d8576b"
             ],
             [
              0.6666666666666666,
              "#ed7953"
             ],
             [
              0.7777777777777778,
              "#fb9f3a"
             ],
             [
              0.8888888888888888,
              "#fdca26"
             ],
             [
              1,
              "#f0f921"
             ]
            ],
            "type": "heatmapgl"
           }
          ],
          "histogram": [
           {
            "marker": {
             "pattern": {
              "fillmode": "overlay",
              "size": 10,
              "solidity": 0.2
             }
            },
            "type": "histogram"
           }
          ],
          "histogram2d": [
           {
            "colorbar": {
             "outlinewidth": 0,
             "ticks": ""
            },
            "colorscale": [
             [
              0,
              "#0d0887"
             ],
             [
              0.1111111111111111,
              "#46039f"
             ],
             [
              0.2222222222222222,
              "#7201a8"
             ],
             [
              0.3333333333333333,
              "#9c179e"
             ],
             [
              0.4444444444444444,
              "#bd3786"
             ],
             [
              0.5555555555555556,
              "#d8576b"
             ],
             [
              0.6666666666666666,
              "#ed7953"
             ],
             [
              0.7777777777777778,
              "#fb9f3a"
             ],
             [
              0.8888888888888888,
              "#fdca26"
             ],
             [
              1,
              "#f0f921"
             ]
            ],
            "type": "histogram2d"
           }
          ],
          "histogram2dcontour": [
           {
            "colorbar": {
             "outlinewidth": 0,
             "ticks": ""
            },
            "colorscale": [
             [
              0,
              "#0d0887"
             ],
             [
              0.1111111111111111,
              "#46039f"
             ],
             [
              0.2222222222222222,
              "#7201a8"
             ],
             [
              0.3333333333333333,
              "#9c179e"
             ],
             [
              0.4444444444444444,
              "#bd3786"
             ],
             [
              0.5555555555555556,
              "#d8576b"
             ],
             [
              0.6666666666666666,
              "#ed7953"
             ],
             [
              0.7777777777777778,
              "#fb9f3a"
             ],
             [
              0.8888888888888888,
              "#fdca26"
             ],
             [
              1,
              "#f0f921"
             ]
            ],
            "type": "histogram2dcontour"
           }
          ],
          "mesh3d": [
           {
            "colorbar": {
             "outlinewidth": 0,
             "ticks": ""
            },
            "type": "mesh3d"
           }
          ],
          "parcoords": [
           {
            "line": {
             "colorbar": {
              "outlinewidth": 0,
              "ticks": ""
             }
            },
            "type": "parcoords"
           }
          ],
          "pie": [
           {
            "automargin": true,
            "type": "pie"
           }
          ],
          "scatter": [
           {
            "fillpattern": {
             "fillmode": "overlay",
             "size": 10,
             "solidity": 0.2
            },
            "type": "scatter"
           }
          ],
          "scatter3d": [
           {
            "line": {
             "colorbar": {
              "outlinewidth": 0,
              "ticks": ""
             }
            },
            "marker": {
             "colorbar": {
              "outlinewidth": 0,
              "ticks": ""
             }
            },
            "type": "scatter3d"
           }
          ],
          "scattercarpet": [
           {
            "marker": {
             "colorbar": {
              "outlinewidth": 0,
              "ticks": ""
             }
            },
            "type": "scattercarpet"
           }
          ],
          "scattergeo": [
           {
            "marker": {
             "colorbar": {
              "outlinewidth": 0,
              "ticks": ""
             }
            },
            "type": "scattergeo"
           }
          ],
          "scattergl": [
           {
            "marker": {
             "colorbar": {
              "outlinewidth": 0,
              "ticks": ""
             }
            },
            "type": "scattergl"
           }
          ],
          "scattermapbox": [
           {
            "marker": {
             "colorbar": {
              "outlinewidth": 0,
              "ticks": ""
             }
            },
            "type": "scattermapbox"
           }
          ],
          "scatterpolar": [
           {
            "marker": {
             "colorbar": {
              "outlinewidth": 0,
              "ticks": ""
             }
            },
            "type": "scatterpolar"
           }
          ],
          "scatterpolargl": [
           {
            "marker": {
             "colorbar": {
              "outlinewidth": 0,
              "ticks": ""
             }
            },
            "type": "scatterpolargl"
           }
          ],
          "scatterternary": [
           {
            "marker": {
             "colorbar": {
              "outlinewidth": 0,
              "ticks": ""
             }
            },
            "type": "scatterternary"
           }
          ],
          "surface": [
           {
            "colorbar": {
             "outlinewidth": 0,
             "ticks": ""
            },
            "colorscale": [
             [
              0,
              "#0d0887"
             ],
             [
              0.1111111111111111,
              "#46039f"
             ],
             [
              0.2222222222222222,
              "#7201a8"
             ],
             [
              0.3333333333333333,
              "#9c179e"
             ],
             [
              0.4444444444444444,
              "#bd3786"
             ],
             [
              0.5555555555555556,
              "#d8576b"
             ],
             [
              0.6666666666666666,
              "#ed7953"
             ],
             [
              0.7777777777777778,
              "#fb9f3a"
             ],
             [
              0.8888888888888888,
              "#fdca26"
             ],
             [
              1,
              "#f0f921"
             ]
            ],
            "type": "surface"
           }
          ],
          "table": [
           {
            "cells": {
             "fill": {
              "color": "#EBF0F8"
             },
             "line": {
              "color": "white"
             }
            },
            "header": {
             "fill": {
              "color": "#C8D4E3"
             },
             "line": {
              "color": "white"
             }
            },
            "type": "table"
           }
          ]
         },
         "layout": {
          "annotationdefaults": {
           "arrowcolor": "#2a3f5f",
           "arrowhead": 0,
           "arrowwidth": 1
          },
          "autotypenumbers": "strict",
          "coloraxis": {
           "colorbar": {
            "outlinewidth": 0,
            "ticks": ""
           }
          },
          "colorscale": {
           "diverging": [
            [
             0,
             "#8e0152"
            ],
            [
             0.1,
             "#c51b7d"
            ],
            [
             0.2,
             "#de77ae"
            ],
            [
             0.3,
             "#f1b6da"
            ],
            [
             0.4,
             "#fde0ef"
            ],
            [
             0.5,
             "#f7f7f7"
            ],
            [
             0.6,
             "#e6f5d0"
            ],
            [
             0.7,
             "#b8e186"
            ],
            [
             0.8,
             "#7fbc41"
            ],
            [
             0.9,
             "#4d9221"
            ],
            [
             1,
             "#276419"
            ]
           ],
           "sequential": [
            [
             0,
             "#0d0887"
            ],
            [
             0.1111111111111111,
             "#46039f"
            ],
            [
             0.2222222222222222,
             "#7201a8"
            ],
            [
             0.3333333333333333,
             "#9c179e"
            ],
            [
             0.4444444444444444,
             "#bd3786"
            ],
            [
             0.5555555555555556,
             "#d8576b"
            ],
            [
             0.6666666666666666,
             "#ed7953"
            ],
            [
             0.7777777777777778,
             "#fb9f3a"
            ],
            [
             0.8888888888888888,
             "#fdca26"
            ],
            [
             1,
             "#f0f921"
            ]
           ],
           "sequentialminus": [
            [
             0,
             "#0d0887"
            ],
            [
             0.1111111111111111,
             "#46039f"
            ],
            [
             0.2222222222222222,
             "#7201a8"
            ],
            [
             0.3333333333333333,
             "#9c179e"
            ],
            [
             0.4444444444444444,
             "#bd3786"
            ],
            [
             0.5555555555555556,
             "#d8576b"
            ],
            [
             0.6666666666666666,
             "#ed7953"
            ],
            [
             0.7777777777777778,
             "#fb9f3a"
            ],
            [
             0.8888888888888888,
             "#fdca26"
            ],
            [
             1,
             "#f0f921"
            ]
           ]
          },
          "colorway": [
           "#636efa",
           "#EF553B",
           "#00cc96",
           "#ab63fa",
           "#FFA15A",
           "#19d3f3",
           "#FF6692",
           "#B6E880",
           "#FF97FF",
           "#FECB52"
          ],
          "font": {
           "color": "#2a3f5f"
          },
          "geo": {
           "bgcolor": "white",
           "lakecolor": "white",
           "landcolor": "#E5ECF6",
           "showlakes": true,
           "showland": true,
           "subunitcolor": "white"
          },
          "hoverlabel": {
           "align": "left"
          },
          "hovermode": "closest",
          "mapbox": {
           "style": "light"
          },
          "paper_bgcolor": "white",
          "plot_bgcolor": "#E5ECF6",
          "polar": {
           "angularaxis": {
            "gridcolor": "white",
            "linecolor": "white",
            "ticks": ""
           },
           "bgcolor": "#E5ECF6",
           "radialaxis": {
            "gridcolor": "white",
            "linecolor": "white",
            "ticks": ""
           }
          },
          "scene": {
           "xaxis": {
            "backgroundcolor": "#E5ECF6",
            "gridcolor": "white",
            "gridwidth": 2,
            "linecolor": "white",
            "showbackground": true,
            "ticks": "",
            "zerolinecolor": "white"
           },
           "yaxis": {
            "backgroundcolor": "#E5ECF6",
            "gridcolor": "white",
            "gridwidth": 2,
            "linecolor": "white",
            "showbackground": true,
            "ticks": "",
            "zerolinecolor": "white"
           },
           "zaxis": {
            "backgroundcolor": "#E5ECF6",
            "gridcolor": "white",
            "gridwidth": 2,
            "linecolor": "white",
            "showbackground": true,
            "ticks": "",
            "zerolinecolor": "white"
           }
          },
          "shapedefaults": {
           "line": {
            "color": "#2a3f5f"
           }
          },
          "ternary": {
           "aaxis": {
            "gridcolor": "white",
            "linecolor": "white",
            "ticks": ""
           },
           "baxis": {
            "gridcolor": "white",
            "linecolor": "white",
            "ticks": ""
           },
           "bgcolor": "#E5ECF6",
           "caxis": {
            "gridcolor": "white",
            "linecolor": "white",
            "ticks": ""
           }
          },
          "title": {
           "x": 0.05
          },
          "xaxis": {
           "automargin": true,
           "gridcolor": "white",
           "linecolor": "white",
           "ticks": "",
           "title": {
            "standoff": 15
           },
           "zerolinecolor": "white",
           "zerolinewidth": 2
          },
          "yaxis": {
           "automargin": true,
           "gridcolor": "white",
           "linecolor": "white",
           "ticks": "",
           "title": {
            "standoff": 15
           },
           "zerolinecolor": "white",
           "zerolinewidth": 2
          }
         }
        },
        "title": {
         "text": "Desconto por Marca e Categoria (Top 10 Marcas)"
        }
       }
      },
      "image/png": "[encoded data removed]",
      "text/html": [
       "<div>                            <div id=\"f2e59eb2-b6a3-446f-a3f6-51a843304077\" class=\"plotly-graph-div\" style=\"height:525px; width:100%;\"></div>            <script type=\"text/javascript\">                require([\"plotly\"], function(Plotly) {                    window.PLOTLYENV=window.PLOTLYENV || {};                                    if (document.getElementById(\"f2e59eb2-b6a3-446f-a3f6-51a843304077\")) {                    Plotly.newPlot(                        \"f2e59eb2-b6a3-446f-a3f6-51a843304077\",                        [{\"branchvalues\":\"total\",\"customdata\":[[\"belleza-y-cuidado-personal\"],[\"belleza-y-cuidado-personal\"],[\"belleza-y-cuidado-personal\"],[\"belleza-y-cuidado-personal\"],[\"congelados\"],[\"congelados\"],[\"lacteos\"],[\"belleza-y-cuidado-personal\"],[\"belleza-y-cuidado-personal\"],[\"belleza-y-cuidado-personal\"],[\"belleza-y-cuidado-personal\"],[\"congelados\"],[\"congelados\"],[\"lacteos\"],[\"belleza-y-cuidado-personal\"],[\"belleza-y-cuidado-personal\"],[\"belleza-y-cuidado-personal\"],[\"belleza-y-cuidado-personal\"],[\"belleza-y-cuidado-personal\"],[\"belleza-y-cuidado-personal\"]],\"domain\":{\"x\":[0.0,1.0],\"y\":[0.0,1.0]},\"hovertemplate\":\"labels=%{label}\\u003cbr\\u003eDesconto=%{value}\\u003cbr\\u003eparent=%{parent}\\u003cbr\\u003eid=%{id}\\u003cbr\\u003eCategoria=%{customdata[0]}\\u003cextra\\u003e\\u003c\\u002fextra\\u003e\",\"ids\":[\"BiO\\u002fbelleza-y-cuidado-personal\",\"Rexona Clinical\\u002fbelleza-y-cuidado-personal\",\"Rexona Men\\u002fbelleza-y-cuidado-personal\",\"Rexona Men Clinical\\u002fbelleza-y-cuidado-personal\",\"Magnum\\u002fcongelados\",\"Mega\\u002fcongelados\",\"Nido\\u002flacteos\",\"Oral Fresh\\u002fbelleza-y-cuidado-personal\",\"Pantene\\u002fbelleza-y-cuidado-personal\",\"Rexona\\u002fbelleza-y-cuidado-personal\",\"BiO\",\"Magnum\",\"Mega\",\"Nido\",\"Oral Fresh\",\"Pantene\",\"Rexona\",\"Rexona Clinical\",\"Rexona Men\",\"Rexona Men Clinical\"],\"labels\":[\"belleza-y-cuidado-personal\",\"belleza-y-cuidado-personal\",\"belleza-y-cuidado-personal\",\"belleza-y-cuidado-personal\",\"congelados\",\"congelados\",\"lacteos\",\"belleza-y-cuidado-personal\",\"belleza-y-cuidado-personal\",\"belleza-y-cuidado-personal\",\"BiO\",\"Magnum\",\"Mega\",\"Nido\",\"Oral Fresh\",\"Pantene\",\"Rexona\",\"Rexona Clinical\",\"Rexona Men\",\"Rexona Men Clinical\"],\"marker\":{\"colors\":[\"#636efa\",\"#636efa\",\"#636efa\",\"#636efa\",\"#EF553B\",\"#EF553B\",\"#00cc96\",\"#636efa\",\"#636efa\",\"#636efa\",\"#636efa\",\"#EF553B\",\"#EF553B\",\"#00cc96\",\"#636efa\",\"#636efa\",\"#636efa\",\"#636efa\",\"#636efa\",\"#636efa\"]},\"name\":\"\",\"parents\":[\"BiO\",\"Rexona Clinical\",\"Rexona Men\",\"Rexona Men Clinical\",\"Magnum\",\"Mega\",\"Nido\",\"Oral Fresh\",\"Pantene\",\"Rexona\",\"\",\"\",\"\",\"\",\"\",\"\",\"\",\"\",\"\",\"\"],\"values\":[650.0,795.0,660.0,795.0,955.0,657.0,869.8,797.0,684.8571428571429,660.0,650.0,955.0,657.0,869.8,797.0,684.8571428571429,660.0,795.0,660.0,795.0],\"type\":\"treemap\"}],                        {\"template\":{\"data\":{\"histogram2dcontour\":[{\"type\":\"histogram2dcontour\",\"colorbar\":{\"outlinewidth\":0,\"ticks\":\"\"},\"colorscale\":[[0.0,\"#0d0887\"],[0.1111111111111111,\"#46039f\"],[0.2222222222222222,\"#7201a8\"],[0.3333333333333333,\"#9c179e\"],[0.4444444444444444,\"#bd3786\"],[0.5555555555555556,\"#d8576b\"],[0.6666666666666666,\"#ed7953\"],[0.7777777777777778,\"#fb9f3a\"],[0.8888888888888888,\"#fdca26\"],[1.0,\"#f0f921\"]]}],\"choropleth\":[{\"type\":\"choropleth\",\"colorbar\":{\"outlinewidth\":0,\"ticks\":\"\"}}],\"histogram2d\":[{\"type\":\"histogram2d\",\"colorbar\":{\"outlinewidth\":0,\"ticks\":\"\"},\"colorscale\":[[0.0,\"#0d0887\"],[0.1111111111111111,\"#46039f\"],[0.2222222222222222,\"#7201a8\"],[0.3333333333333333,\"#9c179e\"],[0.4444444444444444,\"#bd3786\"],[0.5555555555555556,\"#d8576b\"],[0.6666666666666666,\"#ed7953\"],[0.7777777777777778,\"#fb9f3a\"],[0.8888888888888888,\"#fdca26\"],[1.0,\"#f0f921\"]]}],\"heatmap\":[{\"type\":\"heatmap\",\"colorbar\":{\"outlinewidth\":0,\"ticks\":\"\"},\"colorscale\":[[0.0,\"#0d0887\"],[0.1111111111111111,\"#46039f\"],[0.2222222222222222,\"#7201a8\"],[0.3333333333333333,\"#9c179e\"],[0.4444444444444444,\"#bd3786\"],[0.5555555555555556,\"#d8576b\"],[0.6666666666666666,\"#ed7953\"],[0.7777777777777778,\"#fb9f3a\"],[0.8888888888888888,\"#fdca26\"],[1.0,\"#f0f921\"]]}],\"heatmapgl\":[{\"type\":\"heatmapgl\",\"colorbar\":{\"outlinewidth\":0,\"ticks\":\"\"},\"colorscale\":[[0.0,\"#0d0887\"],[0.1111111111111111,\"#46039f\"],[0.2222222222222222,\"#7201a8\"],[0.3333333333333333,\"#9c179e\"],[0.4444444444444444,\"#bd3786\"],[0.5555555555555556,\"#d8576b\"],[0.6666666666666666,\"#ed7953\"],[0.7777777777777778,\"#fb9f3a\"],[0.8888888888888888,\"#fdca26\"],[1.0,\"#f0f921\"]]}],\"contourcarpet\":[{\"type\":\"contourcarpet\",\"colorbar\":{\"outlinewidth\":0,\"ticks\":\"\"}}],\"contour\":[{\"type\":\"contour\",\"colorbar\":{\"outlinewidth\":0,\"ticks\":\"\"},\"colorscale\":[[0.0,\"#0d0887\"],[0.1111111111111111,\"#46039f\"],[0.2222222222222222,\"#7201a8\"],[0.3333333333333333,\"#9c179e\"],[0.4444444444444444,\"#bd3786\"],[0.5555555555555556,\"#d8576b\"],[0.6666666666666666,\"#ed7953\"],[0.7777777777777778,\"#fb9f3a\"],[0.8888888888888888,\"#fdca26\"],[1.0,\"#f0f921\"]]}],\"surface\":[{\"type\":\"surface\",\"colorbar\":{\"outlinewidth\":0,\"ticks\":\"\"},\"colorscale\":[[0.0,\"#0d0887\"],[0.1111111111111111,\"#46039f\"],[0.2222222222222222,\"#7201a8\"],[0.3333333333333333,\"#9c179e\"],[0.4444444444444444,\"#bd3786\"],[0.5555555555555556,\"#d8576b\"],[0.6666666666666666,\"#ed7953\"],[0.7777777777777778,\"#fb9f3a\"],[0.8888888888888888,\"#fdca26\"],[1.0,\"#f0f921\"]]}],\"mesh3d\":[{\"type\":\"mesh3d\",\"colorbar\":{\"outlinewidth\":0,\"ticks\":\"\"}}],\"scatter\":[{\"fillpattern\":{\"fillmode\":\"overlay\",\"size\":10,\"solidity\":0.2},\"type\":\"scatter\"}],\"parcoords\":[{\"type\":\"parcoords\",\"line\":{\"colorbar\":{\"outlinewidth\":0,\"ticks\":\"\"}}}],\"scatterpolargl\":[{\"type\":\"scatterpolargl\",\"marker\":{\"colorbar\":{\"outlinewidth\":0,\"ticks\":\"\"}}}],\"bar\":[{\"error_x\":{\"color\":\"#2a3f5f\"},\"error_y\":{\"color\":\"#2a3f5f\"},\"marker\":{\"line\":{\"color\":\"#E5ECF6\",\"width\":0.5},\"pattern\":{\"fillmode\":\"overlay\",\"size\":10,\"solidity\":0.2}},\"type\":\"bar\"}],\"scattergeo\":[{\"type\":\"scattergeo\",\"marker\":{\"colorbar\":{\"outlinewidth\":0,\"ticks\":\"\"}}}],\"scatterpolar\":[{\"type\":\"scatterpolar\",\"marker\":{\"colorbar\":{\"outlinewidth\":0,\"ticks\":\"\"}}}],\"histogram\":[{\"marker\":{\"pattern\":{\"fillmode\":\"overlay\",\"size\":10,\"solidity\":0.2}},\"type\":\"histogram\"}],\"scattergl\":[{\"type\":\"scattergl\",\"marker\":{\"colorbar\":{\"outlinewidth\":0,\"ticks\":\"\"}}}],\"scatter3d\":[{\"type\":\"scatter3d\",\"line\":{\"colorbar\":{\"outlinewidth\":0,\"ticks\":\"\"}},\"marker\":{\"colorbar\":{\"outlinewidth\":0,\"ticks\":\"\"}}}],\"scattermapbox\":[{\"type\":\"scattermapbox\",\"marker\":{\"colorbar\":{\"outlinewidth\":0,\"ticks\":\"\"}}}],\"scatterternary\":[{\"type\":\"scatterternary\",\"marker\":{\"colorbar\":{\"outlinewidth\":0,\"ticks\":\"\"}}}],\"scattercarpet\":[{\"type\":\"scattercarpet\",\"marker\":{\"colorbar\":{\"outlinewidth\":0,\"ticks\":\"\"}}}],\"carpet\":[{\"aaxis\":{\"endlinecolor\":\"#2a3f5f\",\"gridcolor\":\"white\",\"linecolor\":\"white\",\"minorgridcolor\":\"white\",\"startlinecolor\":\"#2a3f5f\"},\"baxis\":{\"endlinecolor\":\"#2a3f5f\",\"gridcolor\":\"white\",\"linecolor\":\"white\",\"minorgridcolor\":\"white\",\"startlinecolor\":\"#2a3f5f\"},\"type\":\"carpet\"}],\"table\":[{\"cells\":{\"fill\":{\"color\":\"#EBF0F8\"},\"line\":{\"color\":\"white\"}},\"header\":{\"fill\":{\"color\":\"#C8D4E3\"},\"line\":{\"color\":\"white\"}},\"type\":\"table\"}],\"barpolar\":[{\"marker\":{\"line\":{\"color\":\"#E5ECF6\",\"width\":0.5},\"pattern\":{\"fillmode\":\"overlay\",\"size\":10,\"solidity\":0.2}},\"type\":\"barpolar\"}],\"pie\":[{\"automargin\":true,\"type\":\"pie\"}]},\"layout\":{\"autotypenumbers\":\"strict\",\"colorway\":[\"#636efa\",\"#EF553B\",\"#00cc96\",\"#ab63fa\",\"#FFA15A\",\"#19d3f3\",\"#FF6692\",\"#B6E880\",\"#FF97FF\",\"#FECB52\"],\"font\":{\"color\":\"#2a3f5f\"},\"hovermode\":\"closest\",\"hoverlabel\":{\"align\":\"left\"},\"paper_bgcolor\":\"white\",\"plot_bgcolor\":\"#E5ECF6\",\"polar\":{\"bgcolor\":\"#E5ECF6\",\"angularaxis\":{\"gridcolor\":\"white\",\"linecolor\":\"white\",\"ticks\":\"\"},\"radialaxis\":{\"gridcolor\":\"white\",\"linecolor\":\"white\",\"ticks\":\"\"}},\"ternary\":{\"bgcolor\":\"#E5ECF6\",\"aaxis\":{\"gridcolor\":\"white\",\"linecolor\":\"white\",\"ticks\":\"\"},\"baxis\":{\"gridcolor\":\"white\",\"linecolor\":\"white\",\"ticks\":\"\"},\"caxis\":{\"gridcolor\":\"white\",\"linecolor\":\"white\",\"ticks\":\"\"}},\"coloraxis\":{\"colorbar\":{\"outlinewidth\":0,\"ticks\":\"\"}},\"colorscale\":{\"sequential\":[[0.0,\"#0d0887\"],[0.1111111111111111,\"#46039f\"],[0.2222222222222222,\"#7201a8\"],[0.3333333333333333,\"#9c179e\"],[0.4444444444444444,\"#bd3786\"],[0.5555555555555556,\"#d8576b\"],[0.6666666666666666,\"#ed7953\"],[0.7777777777777778,\"#fb9f3a\"],[0.8888888888888888,\"#fdca26\"],[1.0,\"#f0f921\"]],\"sequentialminus\":[[0.0,\"#0d0887\"],[0.1111111111111111,\"#46039f\"],[0.2222222222222222,\"#7201a8\"],[0.3333333333333333,\"#9c179e\"],[0.4444444444444444,\"#bd3786\"],[0.5555555555555556,\"#d8576b\"],[0.6666666666666666,\"#ed7953\"],[0.7777777777777778,\"#fb9f3a\"],[0.8888888888888888,\"#fdca26\"],[1.0,\"#f0f921\"]],\"diverging\":[[0,\"#8e0152\"],[0.1,\"#c51b7d\"],[0.2,\"#de77ae\"],[0.3,\"#f1b6da\"],[0.4,\"#fde0ef\"],[0.5,\"#f7f7f7\"],[0.6,\"#e6f5d0\"],[0.7,\"#b8e186\"],[0.8,\"#7fbc41\"],[0.9,\"#4d9221\"],[1,\"#276419\"]]},\"xaxis\":{\"gridcolor\":\"white\",\"linecolor\":\"white\",\"ticks\":\"\",\"title\":{\"standoff\":15},\"zerolinecolor\":\"white\",\"automargin\":true,\"zerolinewidth\":2},\"yaxis\":{\"gridcolor\":\"white\",\"linecolor\":\"white\",\"ticks\":\"\",\"title\":{\"standoff\":15},\"zerolinecolor\":\"white\",\"automargin\":true,\"zerolinewidth\":2},\"scene\":{\"xaxis\":{\"backgroundcolor\":\"#E5ECF6\",\"gridcolor\":\"white\",\"linecolor\":\"white\",\"showbackground\":true,\"ticks\":\"\",\"zerolinecolor\":\"white\",\"gridwidth\":2},\"yaxis\":{\"backgroundcolor\":\"#E5ECF6\",\"gridcolor\":\"white\",\"linecolor\":\"white\",\"showbackground\":true,\"ticks\":\"\",\"zerolinecolor\":\"white\",\"gridwidth\":2},\"zaxis\":{\"backgroundcolor\":\"#E5ECF6\",\"gridcolor\":\"white\",\"linecolor\":\"white\",\"showbackground\":true,\"ticks\":\"\",\"zerolinecolor\":\"white\",\"gridwidth\":2}},\"shapedefaults\":{\"line\":{\"color\":\"#2a3f5f\"}},\"annotationdefaults\":{\"arrowcolor\":\"#2a3f5f\",\"arrowhead\":0,\"arrowwidth\":1},\"geo\":{\"bgcolor\":\"white\",\"landcolor\":\"#E5ECF6\",\"subunitcolor\":\"white\",\"showland\":true,\"showlakes\":true,\"lakecolor\":\"white\"},\"title\":{\"x\":0.05},\"mapbox\":{\"style\":\"light\"}}},\"legend\":{\"tracegroupgap\":0},\"title\":{\"text\":\"Desconto por Marca e Categoria (Top 10 Marcas)\"}},                        {\"responsive\": true}                    ).then(function(){\n",
       "                            \n",
       "var gd = document.getElementById('f2e59eb2-b6a3-446f-a3f6-51a843304077');\n",
       "var x = new MutationObserver(function (mutations, observer) {{\n",
       "        var display = window.getComputedStyle(gd).display;\n",
       "        if (!display || display === 'none') {{\n",
       "            console.log([gd, 'removed!']);\n",
       "            Plotly.purge(gd);\n",
       "            observer.disconnect();\n",
       "        }}\n",
       "}});\n",
       "\n",
       "// Listen for the removal of the full notebook cells\n",
       "var notebookContainer = gd.closest('#notebook-container');\n",
       "if (notebookContainer) {{\n",
       "    x.observe(notebookContainer, {childList: true});\n",
       "}}\n",
       "\n",
       "// Listen for the clearing of the current output cell\n",
       "var outputEl = gd.closest('.output');\n",
       "if (outputEl) {{\n",
       "    x.observe(outputEl, {childList: true});\n",
       "}}\n",
       "\n",
       "                        })                };                });            </script>        </div>"
      ]
     },
     "metadata": {},
     "output_type": "display_data"
    }
   ],
   "source": [
    "desconto_por_marca_categoria = df.groupby(['Marca', 'Categoria'])['Desconto'].mean().reset_index()\n",
    "\n",
    "top_10_marcas = desconto_por_marca_categoria.groupby('Marca')['Desconto'].mean().nlargest(10).index\n",
    "top_10_desconto_por_marca_categoria = desconto_por_marca_categoria[desconto_por_marca_categoria['Marca'].isin(top_10_marcas)]\n",
    "\n",
    "fig = px.treemap(top_10_desconto_por_marca_categoria,\n",
    "                 path=['Marca', 'Categoria'],\n",
    "                 values='Desconto',\n",
    "                 title='Desconto por Marca e Categoria (Top 10 Marcas)',\n",
    "                 color='Categoria')\n",
    "fig.show()"
   ]
  }
 ],
 "metadata": {
  "colab": {
   "provenance": []
  },
  "kernelspec": {
   "display_name": "Python 3 (ipykernel)",
   "language": "python",
   "name": "python3"
  },
  "language_info": {
   "codemirror_mode": {
    "name": "ipython",
    "version": 3
   },
   "file_extension": ".py",
   "mimetype": "text/x-python",
   "name": "python",
   "nbconvert_exporter": "python",
   "pygments_lexer": "ipython3",
   "version": "3.12.7"
  }
 },
 "nbformat": 4,
 "nbformat_minor": 4
}
